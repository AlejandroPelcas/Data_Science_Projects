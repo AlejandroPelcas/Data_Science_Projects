{
 "cells": [
  {
   "cell_type": "markdown",
   "metadata": {
    "id": "iNALzZOKTzOS"
   },
   "source": [
    "\n",
    "# Project 1: Digit Classification with KNN\n"
   ]
  },
  {
   "cell_type": "markdown",
   "metadata": {
    "id": "EBRkdIUUTzOV"
   },
   "source": [
    "# Intro\n",
    "---\n",
    "In this project, you'll implement your own image recognition system for classifying digits. Read through the code and the instructions carefully and add your own code where indicated. Each problem can be addressed succinctly with the included packages -- please don't add any more. \n",
    "As always, you're welcome to work on the project in groups and discuss ideas over Slack, but <b> please prepare your own write-up (with your own code). </b> To be safe, please credit any sources used.\n",
    "\n",
    "\n",
    "## Grading\n",
    "---\n",
    " - Make sure to answer every part in every question.\n",
    " - There are 5 questions, each worth an equal number of points.\n",
    " - Read carefully what is asked including the notes.\n",
    " - Additional points may be deducted if:\n",
    "   - the code is not clean or is not well commented\n",
    "   - the functions or answers are excessively long\n",
    "\n",
    "## Requirements:\n",
    "---\n",
    "1. Comment your code.\n",
    "1. Each graph should have a title, labels for each axis, and (if needed) a legend. Each graph should be understandable on its own.\n",
    "1. All code must run on colab.research.google.com\n",
    "1. You should not import any additional libraries.\n",
    "1. Try and minimize the use of the global namespace (meaning, keep things inside functions).\n",
    "\n",
    "## Additional reading and notes\n",
    "---\n",
    "\n",
    "If you are looking to get started with Tensorflow, you can read through this tutorial: https://www.tensorflow.org/tutorials/keras/classification. It uses a dataset called \"fashion_mnist\", which is identical in structure to the original digit mnist, but uses images of clothing rather than images of digits. The number of training examples and number of labels is the same. In fact, you can simply replace the code that loads \"fashion_mnist\" with \"mnist\" and everything should work fine.\n",
    "\n",
    "Additionally, if you're interested, check out these links related to digit recognition:\n",
    "\n",
    "* Yann Lecun's MNIST benchmarks: http://yann.lecun.com/exdb/mnist/\n",
    "* Stanford Streetview research and data: http://ufldl.stanford.edu/housenumbers/"
   ]
  },
  {
   "cell_type": "code",
   "execution_count": 39,
   "metadata": {
    "id": "r8u7GmsDTzOX"
   },
   "outputs": [],
   "source": [
    "# This tells matplotlib not to try opening a new window for each plot.\n",
    "%matplotlib inline\n",
    "\n",
    "# Import a bunch of libraries.\n",
    "import time\n",
    "import numpy as np\n",
    "import pandas as pd\n",
    "import matplotlib.pyplot as plt\n",
    "from matplotlib.ticker import MultipleLocator\n",
    "from sklearn.pipeline import Pipeline\n",
    "from sklearn.datasets import fetch_openml\n",
    "from sklearn.neighbors import KNeighborsClassifier\n",
    "from sklearn.metrics import confusion_matrix\n",
    "from sklearn.linear_model import LinearRegression\n",
    "from sklearn.naive_bayes import BernoulliNB\n",
    "from sklearn.naive_bayes import MultinomialNB\n",
    "from sklearn.naive_bayes import GaussianNB\n",
    "from sklearn.model_selection import GridSearchCV\n",
    "from sklearn.metrics import classification_report\n",
    "\n",
    "# Set the randomizer seed so results are the same each time.\n",
    "np.random.seed(0)"
   ]
  },
  {
   "cell_type": "code",
   "execution_count": 40,
   "metadata": {
    "id": "bWOWoq_dTzOY"
   },
   "outputs": [
    {
     "data": {
      "text/plain": [
       "'0.24.1'"
      ]
     },
     "execution_count": 40,
     "metadata": {},
     "output_type": "execute_result"
    }
   ],
   "source": [
    "import sklearn\n",
    "sklearn.__version__"
   ]
  },
  {
   "cell_type": "markdown",
   "metadata": {
    "id": "J1-CAjA9TzOa"
   },
   "source": [
    "Load the data. Notice that the data gets partitioned into training, development, and test sets. Also, a small subset of the training data called mini_train_data and mini_train_labels gets defined, which you should use in all the experiments below, unless otherwise noted."
   ]
  },
  {
   "cell_type": "code",
   "execution_count": 41,
   "metadata": {
    "id": "f9kPmCW0TzOb",
    "scrolled": true
   },
   "outputs": [
    {
     "name": "stdout",
     "output_type": "stream",
     "text": [
      "data shape:  (70000, 784)\n",
      "label shape: (70000,)\n"
     ]
    }
   ],
   "source": [
    "# Load the digit data from https://www.openml.org/d/554 or from default local location '~/scikit_learn_data/...'\n",
    "X, Y = fetch_openml(name='mnist_784', return_X_y=True, cache=False,as_frame = False)\n",
    "\n",
    "# Rescale grayscale values to [0,1].\n",
    "X = X / 255.0\n",
    "\n",
    "# Shuffle the input: create a random permutation of the integers between 0 and the number of data points and apply this\n",
    "# permutation to X and Y.\n",
    "# NOTE: Each time you run this cell, you'll re-shuffle the data, resulting in a different ordering.\n",
    "shuffle = np.random.permutation(np.arange(X.shape[0]))\n",
    "X, Y = X[shuffle], Y[shuffle]\n",
    "\n",
    "print('data shape: ', X.shape)\n",
    "print('label shape:', Y.shape)\n",
    "\n",
    "# Set some variables to hold test, dev, and training data.\n",
    "test_data, test_labels = X[61000:], Y[61000:]\n",
    "dev_data, dev_labels = X[60000:61000], Y[60000:61000]\n",
    "train_data, train_labels = X[:60000], Y[:60000]\n",
    "mini_train_data, mini_train_labels = X[:1000], Y[:1000]"
   ]
  },
  {
   "cell_type": "code",
   "execution_count": 42,
   "metadata": {},
   "outputs": [
    {
     "data": {
      "text/plain": [
       "str"
      ]
     },
     "execution_count": 42,
     "metadata": {},
     "output_type": "execute_result"
    }
   ],
   "source": [
    "type(Y[4004])"
   ]
  },
  {
   "cell_type": "code",
   "execution_count": 43,
   "metadata": {},
   "outputs": [],
   "source": [
    "zeroes_index = np.where(mini_train_labels == '0')[0][:10]\n",
    "ones_index = np.where(mini_train_labels == '1')[0][:10]\n",
    "twos_index = np.where(mini_train_labels == '2')[0][:10]\n",
    "threes_index = np.where(mini_train_labels == '3')[0][:10]\n",
    "fours_index = np.where(mini_train_labels == '4')[0][:10]\n",
    "fives_index = np.where(mini_train_labels == '5')[0][:10]\n",
    "six_index = np.where(mini_train_labels == '6')[0][:10]\n",
    "sevens_index = np.where(mini_train_labels == '7')[0][:10]\n",
    "eights_index = np.where(mini_train_labels == '8')[0][:10]\n",
    "nines_index = np.where(mini_train_labels == '9')[0][:10]\n"
   ]
  },
  {
   "cell_type": "markdown",
   "metadata": {
    "id": "qmZBWyLoTzOc"
   },
   "source": [
    "### Question 1: Visualize a select sample of images\n",
    "---\n",
    "Show a 10x10 grid that visualizes 10 examples of each digit.\n",
    "\n",
    "Notes:\n",
    "* Make the digits nice and big.\n",
    "* You can use `plt.rc()` for setting the colormap, for example to black and white.\n",
    "* You can use `plt.subplot()` for creating subplots.\n",
    "* You can use `plt.imshow()` for rendering a matrix.\n",
    "* You can use `np.array.reshape()` for reshaping a 1D feature vector into a 2D matrix (for rendering)."
   ]
  },
  {
   "cell_type": "code",
   "execution_count": 44,
   "metadata": {
    "id": "ZUzDN1meTzOd"
   },
   "outputs": [
    {
     "data": {
      "image/png": "[encoded data removed]",
      "text/plain": [
       "<Figure size 432x288 with 10 Axes>"
      ]
     },
     "metadata": {
      "needs_background": "light"
     },
     "output_type": "display_data"
    },
    {
     "data": {
      "image/png": "[encoded data removed]",
      "text/plain": [
       "<Figure size 432x288 with 10 Axes>"
      ]
     },
     "metadata": {
      "needs_background": "light"
     },
     "output_type": "display_data"
    },
    {
     "data": {
      "image/png": "[encoded data removed]",
      "text/plain": [
       "<Figure size 432x288 with 10 Axes>"
      ]
     },
     "metadata": {
      "needs_background": "light"
     },
     "output_type": "display_data"
    },
    {
     "data": {
      "image/png": "[encoded data removed]",
      "text/plain": [
       "<Figure size 432x288 with 10 Axes>"
      ]
     },
     "metadata": {
      "needs_background": "light"
     },
     "output_type": "display_data"
    },
    {
     "data": {
      "image/png": "[encoded data removed]",
      "text/plain": [
       "<Figure size 432x288 with 10 Axes>"
      ]
     },
     "metadata": {
      "needs_background": "light"
     },
     "output_type": "display_data"
    },
    {
     "data": {
      "image/png": "[encoded data removed]",
      "text/plain": [
       "<Figure size 432x288 with 10 Axes>"
      ]
     },
     "metadata": {
      "needs_background": "light"
     },
     "output_type": "display_data"
    },
    {
     "data": {
      "image/png": "[encoded data removed]",
      "text/plain": [
       "<Figure size 432x288 with 10 Axes>"
      ]
     },
     "metadata": {
      "needs_background": "light"
     },
     "output_type": "display_data"
    },
    {
     "data": {
      "image/png": "[encoded data removed]",
      "text/plain": [
       "<Figure size 432x288 with 10 Axes>"
      ]
     },
     "metadata": {
      "needs_background": "light"
     },
     "output_type": "display_data"
    },
    {
     "data": {
      "image/png": "[encoded data removed]",
      "text/plain": [
       "<Figure size 432x288 with 10 Axes>"
      ]
     },
     "metadata": {
      "needs_background": "light"
     },
     "output_type": "display_data"
    },
    {
     "data": {
      "image/png": "[encoded data removed]",
      "text/plain": [
       "<Figure size 432x288 with 10 Axes>"
      ]
     },
     "metadata": {
      "needs_background": "light"
     },
     "output_type": "display_data"
    }
   ],
   "source": [
    "def Q1(num_examples=10):\n",
    "  ### STUDENT START ###\n",
    "\n",
    "    #Collect 10 indeces for each number 0-9 where\n",
    "    zeroes_index = np.where(mini_train_labels == '0')[0][:10]\n",
    "    ones_index = np.where(mini_train_labels == '1')[0][:10]\n",
    "    twos_index = np.where(mini_train_labels == '2')[0][:10]\n",
    "    threes_index = np.where(mini_train_labels == '3')[0][:10]\n",
    "    fours_index = np.where(mini_train_labels == '4')[0][:10]\n",
    "    fives_index = np.where(mini_train_labels == '5')[0][:10]\n",
    "    six_index = np.where(mini_train_labels == '6')[0][:10]\n",
    "    sevens_index = np.where(mini_train_labels == '7')[0][:10]\n",
    "    eights_index = np.where(mini_train_labels == '8')[0][:10]\n",
    "    nines_index = np.where(mini_train_labels == '9')[0][:10]\n",
    "    \n",
    "    \n",
    "    #subplots for 0s\n",
    "    fig, (qx0, qx1, qx2, qx3, qx4, qx5, qx6, qx7, qx8, qx9) = plt.subplots(1, 10)\n",
    "    x0 = np.reshape(X[zeroes_index[0]], (28,28))\n",
    "    x1 = np.reshape(X[zeroes_index[1]], (28,28))\n",
    "    x2 = np.reshape(X[zeroes_index[2]], (28,28))\n",
    "    x3 = np.reshape(X[zeroes_index[3]], (28,28))\n",
    "    x4 = np.reshape(X[zeroes_index[4]], (28,28))\n",
    "    x5 = np.reshape(X[zeroes_index[5]], (28,28))\n",
    "    x6 = np.reshape(X[zeroes_index[6]], (28,28))\n",
    "    x7 = np.reshape(X[zeroes_index[7]], (28,28))\n",
    "    x8 = np.reshape(X[zeroes_index[8]], (28,28))\n",
    "    x9 = np.reshape(X[zeroes_index[9]], (28,28))\n",
    "    qx0.imshow(x0)\n",
    "    qx1.imshow(x1)\n",
    "    qx2.imshow(x2)\n",
    "    qx3.imshow(x3)\n",
    "    qx4.imshow(x4)\n",
    "    qx5.imshow(x5)\n",
    "    qx6.imshow(x6)\n",
    "    qx7.imshow(x7)\n",
    "    qx8.imshow(x8)\n",
    "    qx9.imshow(x9)\n",
    "    \n",
    "    #subplots for 1s\n",
    "    fig, (ax0, ax1, ax2, ax3, ax4, ax5, ax6, ax7, ax8, ax9) = plt.subplots(1, 10)\n",
    "    x0 = np.reshape(X[ones_index[0]], (28,28))\n",
    "    x1 = np.reshape(X[ones_index[1]], (28,28))\n",
    "    x2 = np.reshape(X[ones_index[2]], (28,28))\n",
    "    x3 = np.reshape(X[ones_index[3]], (28,28))\n",
    "    x4 = np.reshape(X[ones_index[4]], (28,28))\n",
    "    x5 = np.reshape(X[ones_index[5]], (28,28))\n",
    "    x6 = np.reshape(X[ones_index[6]], (28,28))\n",
    "    x7 = np.reshape(X[ones_index[7]], (28,28))\n",
    "    x8 = np.reshape(X[ones_index[8]], (28,28))\n",
    "    x9 = np.reshape(X[ones_index[9]], (28,28))\n",
    "    ax0.imshow(x0)\n",
    "    ax1.imshow(x1)\n",
    "    ax2.imshow(x2)\n",
    "    ax3.imshow(x3)\n",
    "    ax4.imshow(x4)\n",
    "    ax5.imshow(x5)\n",
    "    ax6.imshow(x6)\n",
    "    ax7.imshow(x7)\n",
    "    ax8.imshow(x8)\n",
    "    ax9.imshow(x9)\n",
    "    \n",
    "    #subplots for 2s\n",
    "    fig, (bx0, bx1, bx2, bx3, bx4, bx5, bx6, bx7, bx8, bx9) = plt.subplots(1, 10)\n",
    "    x0 = np.reshape(X[twos_index[0]], (28,28))\n",
    "    x1 = np.reshape(X[twos_index[1]], (28,28))\n",
    "    x2 = np.reshape(X[twos_index[2]], (28,28))\n",
    "    x3 = np.reshape(X[twos_index[3]], (28,28))\n",
    "    x4 = np.reshape(X[twos_index[4]], (28,28))\n",
    "    x5 = np.reshape(X[twos_index[5]], (28,28))\n",
    "    x6 = np.reshape(X[twos_index[6]], (28,28))\n",
    "    x7 = np.reshape(X[twos_index[7]], (28,28))\n",
    "    x8 = np.reshape(X[twos_index[8]], (28,28))\n",
    "    x9 = np.reshape(X[twos_index[9]], (28,28))\n",
    "    bx0.imshow(x0)\n",
    "    bx1.imshow(x1)\n",
    "    bx2.imshow(x2)\n",
    "    bx3.imshow(x3)\n",
    "    bx4.imshow(x4)\n",
    "    bx5.imshow(x5)\n",
    "    bx6.imshow(x6)\n",
    "    bx7.imshow(x7)\n",
    "    bx8.imshow(x8)\n",
    "    bx9.imshow(x9)\n",
    "    \n",
    "    #subplots for 3s\n",
    "    fig, (cx0, cx1, cx2, cx3, cx4, cx5, cx6, cx7, cx8, cx9) = plt.subplots(1, 10)\n",
    "    x0 = np.reshape(X[threes_index[0]], (28,28))\n",
    "    x1 = np.reshape(X[threes_index[1]], (28,28))\n",
    "    x2 = np.reshape(X[threes_index[2]], (28,28))\n",
    "    x3 = np.reshape(X[threes_index[3]], (28,28))\n",
    "    x4 = np.reshape(X[threes_index[4]], (28,28))\n",
    "    x5 = np.reshape(X[threes_index[5]], (28,28))\n",
    "    x6 = np.reshape(X[threes_index[6]], (28,28))\n",
    "    x7 = np.reshape(X[threes_index[7]], (28,28))\n",
    "    x8 = np.reshape(X[threes_index[8]], (28,28))\n",
    "    x9 = np.reshape(X[threes_index[9]], (28,28))\n",
    "    cx0.imshow(x0)\n",
    "    cx1.imshow(x1)\n",
    "    cx2.imshow(x2)\n",
    "    cx3.imshow(x3)\n",
    "    cx4.imshow(x4)\n",
    "    cx5.imshow(x5)\n",
    "    cx6.imshow(x6)\n",
    "    cx7.imshow(x7)\n",
    "    cx8.imshow(x8)\n",
    "    cx9.imshow(x9)\n",
    "    \n",
    "    #subplots for 4s\n",
    "    fig, (dx0, dx1, dx2, dx3, dx4, dx5, dx6, dx7, dx8, dx9) = plt.subplots(1, 10)\n",
    "    x0 = np.reshape(X[fours_index[0]], (28,28))\n",
    "    x1 = np.reshape(X[fours_index[1]], (28,28))\n",
    "    x2 = np.reshape(X[fours_index[2]], (28,28))\n",
    "    x3 = np.reshape(X[fours_index[3]], (28,28))\n",
    "    x4 = np.reshape(X[fours_index[4]], (28,28))\n",
    "    x5 = np.reshape(X[fours_index[5]], (28,28))\n",
    "    x6 = np.reshape(X[fours_index[6]], (28,28))\n",
    "    x7 = np.reshape(X[fours_index[7]], (28,28))\n",
    "    x8 = np.reshape(X[fours_index[8]], (28,28))\n",
    "    x9 = np.reshape(X[fours_index[9]], (28,28))\n",
    "    dx0.imshow(x0)\n",
    "    dx1.imshow(x1)\n",
    "    dx2.imshow(x2)\n",
    "    dx3.imshow(x3)\n",
    "    dx4.imshow(x4)\n",
    "    dx5.imshow(x5)\n",
    "    dx6.imshow(x6)\n",
    "    dx7.imshow(x7)\n",
    "    dx8.imshow(x8)\n",
    "    dx9.imshow(x9)\n",
    "    \n",
    "    #subplots for 5s\n",
    "    fig, (ex0, ex1, ex2, ex3, ex4, ex5, ex6, ex7, ex8, ex9) = plt.subplots(1, 10)\n",
    "    x0 = np.reshape(X[fives_index[0]], (28,28))\n",
    "    x1 = np.reshape(X[fives_index[1]], (28,28))\n",
    "    x2 = np.reshape(X[fives_index[2]], (28,28))\n",
    "    x3 = np.reshape(X[fives_index[3]], (28,28))\n",
    "    x4 = np.reshape(X[fives_index[4]], (28,28))\n",
    "    x5 = np.reshape(X[fives_index[5]], (28,28))\n",
    "    x6 = np.reshape(X[fives_index[6]], (28,28))\n",
    "    x7 = np.reshape(X[fives_index[7]], (28,28))\n",
    "    x8 = np.reshape(X[fives_index[8]], (28,28))\n",
    "    x9 = np.reshape(X[fives_index[9]], (28,28))\n",
    "    ex0.imshow(x0)\n",
    "    ex1.imshow(x1)\n",
    "    ex2.imshow(x2)\n",
    "    ex3.imshow(x3)\n",
    "    ex4.imshow(x4)\n",
    "    ex5.imshow(x5)\n",
    "    ex6.imshow(x6)\n",
    "    ex7.imshow(x7)\n",
    "    ex8.imshow(x8)\n",
    "    ex9.imshow(x9)\n",
    "\n",
    "    #subplots for 6s\n",
    "    fig, (fx0, fx1, fx2, fx3, fx4, fx5, fx6, fx7, fx8, fx9) = plt.subplots(1, 10)\n",
    "    x0 = np.reshape(X[six_index[0]], (28,28))\n",
    "    x1 = np.reshape(X[six_index[1]], (28,28))\n",
    "    x2 = np.reshape(X[six_index[2]], (28,28))\n",
    "    x3 = np.reshape(X[six_index[3]], (28,28))\n",
    "    x4 = np.reshape(X[six_index[4]], (28,28))\n",
    "    x5 = np.reshape(X[six_index[5]], (28,28))\n",
    "    x6 = np.reshape(X[six_index[6]], (28,28))\n",
    "    x7 = np.reshape(X[six_index[7]], (28,28))\n",
    "    x8 = np.reshape(X[six_index[8]], (28,28))\n",
    "    x9 = np.reshape(X[six_index[9]], (28,28))\n",
    "    fx0.imshow(x0)\n",
    "    fx1.imshow(x1)\n",
    "    fx2.imshow(x2)\n",
    "    fx3.imshow(x3)\n",
    "    fx4.imshow(x4)\n",
    "    fx5.imshow(x5)\n",
    "    fx6.imshow(x6)\n",
    "    fx7.imshow(x7)\n",
    "    fx8.imshow(x8)\n",
    "    fx9.imshow(x9)\n",
    "    \n",
    "    #subplots for 7s\n",
    "    fig, (gx0, gx1, gx2, gx3, gx4, gx5, gx6, gx7, gx8, gx9) = plt.subplots(1, 10)\n",
    "    x0 = np.reshape(X[sevens_index[0]], (28,28))\n",
    "    x1 = np.reshape(X[sevens_index[1]], (28,28))\n",
    "    x2 = np.reshape(X[sevens_index[2]], (28,28))\n",
    "    x3 = np.reshape(X[sevens_index[3]], (28,28))\n",
    "    x4 = np.reshape(X[sevens_index[4]], (28,28))\n",
    "    x5 = np.reshape(X[sevens_index[5]], (28,28))\n",
    "    x6 = np.reshape(X[sevens_index[6]], (28,28))\n",
    "    x7 = np.reshape(X[sevens_index[7]], (28,28))\n",
    "    x8 = np.reshape(X[sevens_index[8]], (28,28))\n",
    "    x9 = np.reshape(X[sevens_index[9]], (28,28))\n",
    "    gx0.imshow(x0)\n",
    "    gx1.imshow(x1)\n",
    "    gx2.imshow(x2)\n",
    "    gx3.imshow(x3)\n",
    "    gx4.imshow(x4)\n",
    "    gx5.imshow(x5)\n",
    "    gx6.imshow(x6)\n",
    "    gx7.imshow(x7)\n",
    "    gx8.imshow(x8)\n",
    "    gx9.imshow(x9)\n",
    "    \n",
    "    #subplots for 8s\n",
    "    fig, (hx0, hx1, hx2, hx3, hx4, hx5, hx6, hx7, hx8, hx9) = plt.subplots(1, 10)\n",
    "    x0 = np.reshape(X[eights_index[0]], (28,28))\n",
    "    x1 = np.reshape(X[eights_index[1]], (28,28))\n",
    "    x2 = np.reshape(X[eights_index[2]], (28,28))\n",
    "    x3 = np.reshape(X[eights_index[3]], (28,28))\n",
    "    x4 = np.reshape(X[eights_index[4]], (28,28))\n",
    "    x5 = np.reshape(X[eights_index[5]], (28,28))\n",
    "    x6 = np.reshape(X[eights_index[6]], (28,28))\n",
    "    x7 = np.reshape(X[eights_index[7]], (28,28))\n",
    "    x8 = np.reshape(X[eights_index[8]], (28,28))\n",
    "    x9 = np.reshape(X[eights_index[9]], (28,28))\n",
    "    hx0.imshow(x0)\n",
    "    hx1.imshow(x1)\n",
    "    hx2.imshow(x2)\n",
    "    hx3.imshow(x3)\n",
    "    hx4.imshow(x4)\n",
    "    hx5.imshow(x5)\n",
    "    hx6.imshow(x6)\n",
    "    hx7.imshow(x7)\n",
    "    hx8.imshow(x8)\n",
    "    hx9.imshow(x9)\n",
    "\n",
    "    #subplots for 9s\n",
    "    fig, (ix0, ix1, ix2, ix3, ix4, ix5, ix6, ix7, ix8, ix9) = plt.subplots(1, 10)\n",
    "    x0 = np.reshape(X[nines_index[0]], (28,28))\n",
    "    x1 = np.reshape(X[nines_index[1]], (28,28))\n",
    "    x2 = np.reshape(X[nines_index[2]], (28,28))\n",
    "    x3 = np.reshape(X[nines_index[3]], (28,28))\n",
    "    x4 = np.reshape(X[nines_index[4]], (28,28))\n",
    "    x5 = np.reshape(X[nines_index[5]], (28,28))\n",
    "    x6 = np.reshape(X[nines_index[6]], (28,28))\n",
    "    x7 = np.reshape(X[nines_index[7]], (28,28))\n",
    "    x8 = np.reshape(X[nines_index[8]], (28,28))\n",
    "    x9 = np.reshape(X[nines_index[9]], (28,28))\n",
    "    ix0.imshow(x0)\n",
    "    ix1.imshow(x1)\n",
    "    ix2.imshow(x2)\n",
    "    ix3.imshow(x3)\n",
    "    ix4.imshow(x4)\n",
    "    ix5.imshow(x5)\n",
    "    ix6.imshow(x6)\n",
    "    ix7.imshow(x7)\n",
    "    ix8.imshow(x8)\n",
    "    ix9.imshow(x9)\n",
    "  ### STUDENT END ###\n",
    "\n",
    "Q1(10)"
   ]
  },
  {
   "cell_type": "markdown",
   "metadata": {
    "id": "s7PNhljcTzOe"
   },
   "source": [
    "### Question 2: Evaluating different choices of k\n",
    "---\n",
    "\n",
    "1. Produce k-Nearest Neighbors models with k = 1, 3, 5, 7, and 9.  \n",
    "1. Print the accuracy of each model. \n",
    "1. Additionally, only for the 1-Nearest Neighbor model, show the precision, recall, and F1 for each label. \n",
    "1. Which digit is the most *difficult* for the 1-Nearest Neighbor model to classify correctly? How did you choose and why?\n",
    "\n",
    "Notes:\n",
    "* Train on the mini train set.\n",
    "* Evaluate performance on the dev set.\n",
    "* Print only the information asked so it is easy to read and compare.\n",
    "* You can use `KNeighborsClassifier` to produce a k-nearest neighbor model.\n",
    "* You can use `classification_report` to get precision, recall, and F1 results.\n",
    "* Check out what the function \"score\" does."
   ]
  },
  {
   "cell_type": "code",
   "execution_count": 99,
   "metadata": {
    "id": "PQD0u7d_TzOf"
   },
   "outputs": [
    {
     "name": "stdout",
     "output_type": "stream",
     "text": [
      "For k = 1\n",
      "Prediction accuracy: 0.884\n",
      " \n",
      "              precision    recall  f1-score   support\n",
      "\n",
      "           0       0.95      0.95      0.95       106\n",
      "           1       0.89      0.98      0.93       118\n",
      "           2       0.90      0.79      0.84       106\n",
      "           3       0.93      0.87      0.90        97\n",
      "           4       0.91      0.85      0.88        92\n",
      "           5       0.86      0.88      0.87        88\n",
      "           6       0.92      0.92      0.92       102\n",
      "           7       0.85      0.94      0.89       102\n",
      "           8       0.83      0.77      0.80        94\n",
      "           9       0.80      0.86      0.83        95\n",
      "\n",
      "    accuracy                           0.88      1000\n",
      "   macro avg       0.88      0.88      0.88      1000\n",
      "weighted avg       0.89      0.88      0.88      1000\n",
      "\n",
      "For k = 3\n",
      "Prediction accuracy: 0.876\n",
      " \n",
      "For k = 5\n",
      "Prediction accuracy: 0.882\n",
      " \n",
      "For k = 7\n",
      "Prediction accuracy: 0.877\n",
      " \n",
      "For k = 9\n",
      "Prediction accuracy: 0.875\n",
      " \n"
     ]
    }
   ],
   "source": [
    "def Q2(k_values):\n",
    "\n",
    "### STUDENT START ###\n",
    "\n",
    "    for i in k_values:\n",
    "        #train KNN model\n",
    "        knn = KNeighborsClassifier(n_neighbors=i, p=2, metric='minkowski')\n",
    "        knn.fit(mini_train_data, mini_train_labels)\n",
    "        #print(classification_report(mini_train_data,mini_train_labels))\n",
    "        \n",
    "        #Make the prediction\n",
    "        y_pred = knn.predict(dev_data)\n",
    "        if i == 1:\n",
    "            print('For k = 1')\n",
    "            #print('Misclassified examples: %d (out of 1000)' % (dev_labels != y_pred).sum())\n",
    "            error = (dev_labels != y_pred).sum()/len(y_pred)\n",
    "            print('Prediction accuracy: %.3f'% (1-error))\n",
    "            print(' ')\n",
    "            print(classification_report(dev_labels,y_pred))\n",
    "            continue\n",
    "\n",
    "        #Evaluate performance\n",
    "        #print('Predicted class labels for each test example:')\n",
    "        print('For k =',i)\n",
    "        #print('Misclassified examples: %d (out of 1000)' % (dev_labels != y_pred).sum())\n",
    "        error = (dev_labels != y_pred).sum()/len(y_pred)\n",
    "        print('Prediction accuracy: %.3f'% (1-error))\n",
    "        print(' ')\n",
    "### STUDENT END ###\n",
    "\n",
    "k_values = [1, 3, 5, 7, 9]\n",
    "Q2(k_values)"
   ]
  },
  {
   "cell_type": "markdown",
   "metadata": {
    "id": "rkwwb2hHTzOg"
   },
   "source": [
    "Answer to part 4: \n",
    "K = 1 has most trouble with the digit 9. I believe this is true because the precision score is lowest one on the number 9 and its other metrics are also relatively low"
   ]
  },
  {
   "cell_type": "markdown",
   "metadata": {
    "id": "C2VPQ9CbTzOh"
   },
   "source": [
    "### Question 3: Examining the importance of training size\n",
    "---\n",
    "1. Produce 1-Nearest Neighbor models using training data of various sizes. For example, ```train_data[:train_size]```.\n",
    "1. Evaluate and show the accuracy achieved by each model.  \n",
    "1. Show the time needed to: \n",
    "  1. Train each model.\n",
    "  1. Measure the accuracy of each model.\n",
    "1. What do you see? Is this what you expected to see and why?\n",
    "1. Plot on the same graph (as a function of training size):\n",
    "  1. the time needed for training\n",
    "  1. the time needed for calculating accuracy\n",
    "\n",
    "Notes:\n",
    "* Evaluate on the dev set.\n",
    "* You can use `KNeighborsClassifier` to produce a k-nearest neighbor model.\n",
    "* You can use `time.time()` to measure elapsed time of operations."
   ]
  },
  {
   "cell_type": "code",
   "execution_count": 100,
   "metadata": {
    "id": "8FLREmbUTzOh"
   },
   "outputs": [
    {
     "name": "stdout",
     "output_type": "stream",
     "text": [
      "For k = 100\n",
      "Prediction accuracy: 0.702\n",
      " \n",
      "For k = 200\n",
      "Prediction accuracy: 0.791\n",
      " \n",
      "For k = 400\n",
      "Prediction accuracy: 0.811\n",
      " \n",
      "For k = 800\n",
      "Prediction accuracy: 0.866\n",
      " \n",
      "For k = 1600\n",
      "Prediction accuracy: 0.905\n",
      " \n",
      "For k = 3200\n",
      "Prediction accuracy: 0.927\n",
      " \n",
      "For k = 6400\n",
      "Prediction accuracy: 0.939\n",
      " \n",
      "For k = 12800\n",
      "Prediction accuracy: 0.952\n",
      " \n",
      "For k = 25600\n",
      "Prediction accuracy: 0.963\n",
      " \n"
     ]
    },
    {
     "data": {
      "image/png": "[encoded data removed]",
      "text/plain": [
       "<Figure size 432x288 with 1 Axes>"
      ]
     },
     "metadata": {
      "needs_background": "light"
     },
     "output_type": "display_data"
    }
   ],
   "source": [
    "def Q3(train_sizes, accuracies):\n",
    "\n",
    "### STUDENT START ###\n",
    "    knn = KNeighborsClassifier(n_neighbors=1, p=2, metric='minkowski')\n",
    "    for size in train_sizes:\n",
    "        #Get time for the training and append to traing_time list\n",
    "        t_0_train = time.time()\n",
    "        knn.fit(train_data[:size], train_labels[:size])\n",
    "        t_f_train = time.time()\n",
    "        train_times.append(t_f_train - t_0_train)\n",
    "        \n",
    "        #Get time for the training and append to traing_time list\n",
    "        t_0_acc = time.time()\n",
    "        knn.score(train_data[:size], train_labels[:size])\n",
    "        t_f_acc = time.time()\n",
    "        eval_times.append(t_f_acc - t_0_acc)\n",
    "        \n",
    "        \n",
    "        y_pred = knn.predict(dev_data)\n",
    "        print('For k =', str(size))\n",
    "        #print('Misclassified examples: %d (out of %d)' % ((dev_labels != y_pred).sum(),size))\n",
    "        error = (dev_labels != y_pred).sum()/len(y_pred)\n",
    "        #print('Prediction error: %.3f' % error)\n",
    "        print('Prediction accuracy: %.3f'% (1-error))\n",
    "        accuracies.append((1-error))\n",
    "        print(' ')\n",
    "        \n",
    "    #print(\"The Accuracies are\",accuracies)\n",
    "    #print(\"The training times are\",train_times)\n",
    "    #print(\"The eval times are\",eval_times)\n",
    "    \n",
    "    plt.plot(train_sizes,train_times, label=\"Training Time\")\n",
    "    plt.plot(train_sizes,eval_times, label= \"Evaluation Time\")\n",
    "    plt.xlabel(\"Size of data\")\n",
    "    plt.ylabel(\"Evaluation Time\")\n",
    "    plt.legend()\n",
    "    \n",
    "\n",
    "### STUDENT END ###\n",
    "\n",
    "train_sizes = [100, 200, 400, 800, 1600, 3200, 6400, 12800, 25600]\n",
    "accuracies = []\n",
    "train_times = []\n",
    "eval_times = []\n",
    "#Q3(train_sizes, accuracies, train_times, eval_times)\n",
    "Q3(train_sizes, accuracies)"
   ]
  },
  {
   "cell_type": "markdown",
   "metadata": {
    "id": "7RvpMWezTzOi"
   },
   "source": [
    "### Question 4: Evaluating if we should obtain additional data\n",
    "---\n",
    "\n",
    "In this question we wish to predict what accuracy we would get if we had additional training data.\n",
    "\n",
    "Our input, our features and labels, are the output from the previous question. Based on the training size and accuracy we got in the previous question, we wish to predict the accuracy we would get if we had larger training sizes.\n",
    "\n",
    "1. Produce a linear regression model that predicts accuracy of a 1-Nearest Neighbor model given training set size. \n",
    "1. Print $R^2$ of the linear regression model.  \n",
    "1. Print the accuracies predicted for training set sizes 60000, 120000, and 1000000.  \n",
    "1. Plot on a lineplot graph:\n",
    "  1. the actual accuracies we obtained in the previous question \n",
    "  1. and the accuracies our model predicted we would have gotten.\n",
    "  1. The X axis is the training set size. \n",
    "  1. You can limit the range of X and Y to the range where you have data for both plots. Meaning, in the this question, we want to visualize how good the prediction is.\n",
    "1. What are two things that are wrong with our model?\n",
    "1. Apply a transformation to the predictor features and a transformation to the outcome that make the predictions fix these issues. \n",
    "1. Show $R^2$ of the improved linear regression model.  \n",
    "1. Print the accuracies predicted for training set sizes 60000, 120000, and 1000000.  \n",
    "1. Plot a lineplot graph of both again as before.\n",
    "  1. Be sure to plot this where the Y axis is accuracy and X axis is training set size, **not the transformed space**!\n",
    "  1. Choose the range of X and Y to visualize effectively.\n",
    "\n",
    "Notes:\n",
    "* Train the linear regression models on all of the (transformed) accuracies estimated in Problem 3.\n",
    "* Evaluate the linear regression models on all of the (transformed) accuracies estimated in Problem 3.\n",
    "* You can use `LinearRegression` to produce a linear regression model.\n",
    "* Remember that the sklearn `fit()` functions take an input matrix X and output vector Y. So, each input example in X is a vector, even if it contains only a single value.\n",
    "* Hints:\n",
    "  1. You have two problems here, how well your model fits and predicting *illogical* values of accuracy.\n",
    "  1. You can look at:\n",
    "    1. [logit](https://en.wikipedia.org/wiki/Logit): $\\frac{1}{1 + e^{-x}} = \\frac{e^x}{1+e^x}$ which takes numbers in $\\[\\infty,-\\infty\\]$ and outputs numbers in $(0, 1)$.\n",
    "    1. [logistic](https://en.wikipedia.org/wiki/Logistic_function): $log(\\frac{p}{1 - p})$ which takes numbers between $(0, 1)$ and outputs numbers between $\\[\\infty,-\\infty\\]$.\n",
    "    1. It also happens that $x = logistic(p)$ is the same thing as $logit(x)=p$."
   ]
  },
  {
   "cell_type": "code",
   "execution_count": 84,
   "metadata": {
    "id": "z-mIFqcfTzOi"
   },
   "outputs": [],
   "source": [
    "def Q4():\n",
    "\n",
    "### STUDENT START ###\n",
    "    linreg = LinearRegression()\n",
    "    data_sizes = [60000, 120000, 1000000]\n",
    "    for size in data_sizes:\n",
    "        linreg.fit(train_data[:size],train_labels[:size])\n",
    "        \n",
    "### STUDENT END ###\n",
    "\n",
    "Q4()"
   ]
  },
  {
   "cell_type": "markdown",
   "metadata": {
    "id": "pcYwq2H5TzOj"
   },
   "source": [
    "Answer to part 5:  "
   ]
  },
  {
   "cell_type": "markdown",
   "metadata": {
    "id": "899CMYybTzOj"
   },
   "source": [
    "### Question 5: Getting to know the confusion matrix.\n",
    "---\n",
    "\n",
    "1. Produce a 1-Nearest Neighbor model.\n",
    "1. Show the confusion matrix. \n",
    "1. Which digit does the model most often confuse with which digit? (*for example, the model most often mistakes the digit $1$ as the digit $7$*).\n",
    "1. Show examples of the misclassified digit.\n",
    "\n",
    "Notes:\n",
    "- Train on the mini train set.\n",
    "- Evaluate performance on the dev set.\n",
    "- You can use `confusion_matrix()` to produce a confusion matrix.\n",
    "- No need to calculate the \"most confused digits\" programmatically."
   ]
  },
  {
   "cell_type": "code",
   "execution_count": 97,
   "metadata": {
    "id": "nRFrK4G9TzOk",
    "scrolled": true
   },
   "outputs": [
    {
     "name": "stdout",
     "output_type": "stream",
     "text": [
      "[[101   0   1   0   0   0   1   1   2   0]\n",
      " [  0 116   1   0   0   0   0   0   1   0]\n",
      " [  1   4  84   2   2   0   2   4   6   1]\n",
      " [  0   2   0  84   0   6   0   2   3   0]\n",
      " [  0   0   1   0  78   0   0   2   0  11]\n",
      " [  2   0   0   1   1  77   5   0   2   0]\n",
      " [  1   2   1   0   1   2  94   0   1   0]\n",
      " [  0   1   1   0   0   0   0  96   0   4]\n",
      " [  1   5   4   3   1   3   0   1  72   4]\n",
      " [  0   1   0   0   3   2   0   7   0  82]]\n"
     ]
    }
   ],
   "source": [
    "def Q5():\n",
    "\n",
    "### STUDENT START ###\n",
    "    #Set up KNN model and train it (fit it) then get accuracy score\n",
    "    knn = KNeighborsClassifier(n_neighbors=1, p=2, metric='minkowski')\n",
    "    knn.fit(mini_train_data, mini_train_labels)\n",
    "    accuracy = knn.score(dev_data,dev_labels)\n",
    "    #Confusion Matrix by setting up the actual with predicated \n",
    "    actual = dev_labels\n",
    "    predicted = knn.predict(dev_data)\n",
    "    print(confusion_matrix(actual,predicted,labels=[\"0\",\"1\",\"2\",\"3\",\"4\",\"5\",\"6\",\"7\",\"8\",\"9\"]))\n",
    "### STUDENT END ###\n",
    "\n",
    "Q5()\n"
   ]
  },
  {
   "cell_type": "markdown",
   "metadata": {
    "id": "f6x930p3TzOl"
   },
   "source": [
    "Answer to part 3: \n"
   ]
  },
  {
   "cell_type": "markdown",
   "metadata": {
    "id": "iJoleVeatoRg"
   },
   "source": [
    "It seems the model had most trouble distinguising \"4\" as \"9\" (see (4,9)). It thought it was four 11 times when in reality it was the number nine. "
   ]
  }
 ],
 "metadata": {
  "colab": {
   "collapsed_sections": [],
   "name": "firstname_lastname_project1.ipynb",
   "provenance": []
  },
  "kernelspec": {
   "display_name": "Python 3",
   "language": "python",
   "name": "python3"
  },
  "language_info": {
   "codemirror_mode": {
    "name": "ipython",
    "version": 3
   },
   "file_extension": ".py",
   "mimetype": "text/x-python",
   "name": "python",
   "nbconvert_exporter": "python",
   "pygments_lexer": "ipython3",
   "version": "3.8.8"
  },
  "toc": {
   "base_numbering": 1,
   "nav_menu": {},
   "number_sections": false,
   "sideBar": true,
   "skip_h1_title": true,
   "title_cell": "Table of Contents",
   "title_sidebar": "Contents",
   "toc_cell": false,
   "toc_position": {},
   "toc_section_display": true,
   "toc_window_display": false
  }
 },
 "nbformat": 4,
 "nbformat_minor": 1
}
