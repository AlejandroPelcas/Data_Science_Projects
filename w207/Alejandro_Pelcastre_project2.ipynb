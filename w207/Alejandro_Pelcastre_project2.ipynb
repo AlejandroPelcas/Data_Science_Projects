{
 "cells": [
  {
   "cell_type": "markdown",
   "metadata": {
    "id": "iNALzZOKTzOS"
   },
   "source": [
    "# Project 2: Digit Classification Naive Bayes\n",
    "\n",
    "**Solution**"
   ]
  },
  {
   "cell_type": "markdown",
   "metadata": {
    "id": "EBRkdIUUTzOV"
   },
   "source": [
    "# Intro\n",
    "---\n",
    "In this project, you'll continue working on your own image recognition system for classifying digits. Read through the code and the instructions carefully and add your own code where indicated. Each problem can be addressed succinctly with the included packages -- please don't add any more. \n",
    "As always, you're welcome to work on the project in groups and discuss ideas over Slack, but <b> please prepare your own write-up (with your own code). </b>\n",
    "\n",
    "\n",
    "## Grading\n",
    "---\n",
    " - Make sure to answer every part in every question.\n",
    " - There are 6 questions, each equally weighted and an additional bonus question.\n",
    " - The extra credit question will be graded based on your attempts at feature engineering and resulting improved accuracy.\n",
    " - Read carefully what is asked including the notes.\n",
    " - Additional points may be deducted if:\n",
    "   - the code is not clean, well commented,\n",
    "  -  if the functions or answers are too long.\n",
    "\n",
    "## Requirements:\n",
    "---\n",
    "1. Comment your code.\n",
    "1. All graphs should have titles, label for each axis, and if needed a legend. It should be understandable on its own.\n",
    "1. All code must run on colab.research.google.com\n",
    "1. You should not import any additional libraries.\n",
    "1. Try and minimize the use of the global namespace (meaning keep things in functions).\n",
    "\n",
    "## Additional Reading and notes\n",
    "---\n",
    "If you're interested, check out these links related to digit recognition:\n",
    "\n",
    "* Yann Lecun's MNIST benchmarks: http://yann.lecun.com/exdb/mnist/\n",
    "* Stanford Streetview research and data: http://ufldl.stanford.edu/housenumbers/\n",
    "\n",
    "Finally, if you'd like to get started with Tensorflow, you can read through this tutorial: https://www.tensorflow.org/tutorials/keras/basic_classification. It uses a dataset called \"fashion_mnist\", which is identical in structure to the original digit mnist, but uses images of clothing rather than images of digits. The number of training examples and number of labels is the same. In fact, you can simply replace the code that loads \"fashion_mnist\" with \"mnist\" and everything should work fine."
   ]
  },
  {
   "cell_type": "code",
   "execution_count": 1,
   "metadata": {
    "id": "r8u7GmsDTzOX"
   },
   "outputs": [],
   "source": [
    "# This tells matplotlib not to try opening a new window for each plot.\n",
    "%matplotlib inline\n",
    "\n",
    "# Import a bunch of libraries.\n",
    "import time\n",
    "import numpy as np\n",
    "import pandas as pd\n",
    "import matplotlib.pyplot as plt\n",
    "from matplotlib.ticker import MultipleLocator\n",
    "from sklearn.pipeline import Pipeline\n",
    "from sklearn.datasets import fetch_openml\n",
    "from sklearn.neighbors import KNeighborsClassifier\n",
    "from sklearn.metrics import confusion_matrix\n",
    "from sklearn.linear_model import LinearRegression\n",
    "from sklearn.naive_bayes import BernoulliNB\n",
    "from sklearn.naive_bayes import MultinomialNB\n",
    "from sklearn.naive_bayes import GaussianNB\n",
    "from sklearn.model_selection import GridSearchCV\n",
    "from sklearn.metrics import classification_report\n",
    "\n",
    "# Set the randomizer seed so results are the same each time.\n",
    "np.random.seed(0)"
   ]
  },
  {
   "cell_type": "code",
   "execution_count": 2,
   "metadata": {
    "id": "bWOWoq_dTzOY"
   },
   "outputs": [
    {
     "data": {
      "text/plain": [
       "'0.24.1'"
      ]
     },
     "execution_count": 2,
     "metadata": {},
     "output_type": "execute_result"
    }
   ],
   "source": [
    "import sklearn\n",
    "sklearn.__version__"
   ]
  },
  {
   "cell_type": "markdown",
   "metadata": {
    "id": "J1-CAjA9TzOa"
   },
   "source": [
    "Load the data. Notice that the data gets partitioned into training, development, and test sets. Also, a small subset of the training data called mini_train_data and mini_train_labels gets defined, which you should use in all the experiments below, unless otherwise noted."
   ]
  },
  {
   "cell_type": "code",
   "execution_count": 5,
   "metadata": {
    "id": "f9kPmCW0TzOb"
   },
   "outputs": [
    {
     "name": "stdout",
     "output_type": "stream",
     "text": [
      "data shape:  (70000, 784)\n",
      "label shape: (70000,)\n"
     ]
    }
   ],
   "source": [
    "# Load the digit data from https://www.openml.org/d/554 or from default local location '~/scikit_learn_data/...'\n",
    "X, Y = fetch_openml(name='mnist_784', return_X_y=True, cache=False, as_frame=False)\n",
    "\n",
    "# Rescale grayscale values to [0,1].\n",
    "X = X / 255.0\n",
    "\n",
    "# Shuffle the input: create a random permutation of the integers between 0 and the number of data points and apply this\n",
    "# permutation to X and Y.\n",
    "# NOTE: Each time you run this cell, you'll re-shuffle the data, resulting in a different ordering.\n",
    "shuffle = np.random.permutation(np.arange(X.shape[0]))\n",
    "X, Y = X[shuffle], Y[shuffle]\n",
    "\n",
    "print('data shape: ', X.shape)\n",
    "print('label shape:', Y.shape)\n",
    "\n",
    "# Set some variables to hold test, dev, and training data.\n",
    "test_data, test_labels = X[61000:], Y[61000:]\n",
    "dev_data, dev_labels = X[60000:61000], Y[60000:61000]\n",
    "train_data, train_labels = X[:60000], Y[:60000]\n",
    "mini_train_data, mini_train_labels = X[:1000], Y[:1000]"
   ]
  },
  {
   "cell_type": "code",
   "execution_count": 40,
   "metadata": {},
   "outputs": [
    {
     "data": {
      "text/plain": [
       "(1000, 784)"
      ]
     },
     "execution_count": 40,
     "metadata": {},
     "output_type": "execute_result"
    }
   ],
   "source": [
    "dev_data.shape"
   ]
  },
  {
   "cell_type": "markdown",
   "metadata": {
    "id": "gr40-NstTzOl"
   },
   "source": [
    "### Question 1: Applying a smoothing using numpy.\n",
    "---\n",
    "\n",
    "A common image processing technique is to smooth an image by **blurring**. The idea is that the value of a particular pixel is estimated as the weighted combination of the original value and the values around it. Typically, the blurring is Gaussian, i.e., the weight of a pixel's influence is determined by a Gaussian function over the distance to the relevant pixel.\n",
    "\n",
    "1. Implement a simplified Gaussian blur filter by just using the 8 neighboring pixels like this: the smoothed value of a pixel is a weighted combination of the original value and the 8 neighboring values.\n",
    "1. Choose some weights as a starting point. Produce and evaluate four 1-Nearest Neighbor models by applying your blur filter in these ways:\n",
    "  1. Do not use the filter\n",
    "  1. Filter the training data but not the dev data\n",
    "  1. Filter the dev data but not the training data\n",
    "  1. Filter both training data and dev data\n",
    "1. Show the accuracies of the four models evaluated as described. What do you see? Can you explain why this is?\n",
    "1. Experiment with weights that makes one model's accuracy at least 0.9.\n",
    "\n",
    "Notes:\n",
    "* Train on the (filtered) mini train set.\n",
    "* Evaluate performance on the (filtered) dev set.\n",
    "* A good trick to simplify your code is to use numpy's pad function to add 0s around your original array so you don't have to deal with \"edge cases\".\n",
    "* In addition, you can use numpy to multiply and sum slices of two arrays.\n",
    "* [This notebook](https://colab.research.google.com/drive/1eJXTQLtREXQjQIsLOA9uCrBl6B049-pO) might help shows some example numpy code.\n",
    "* In general, [numpy operations will be much faster than for loops](https://colab.research.google.com/drive/1KJI4JtuIqVdyZHTTe_mAlKYA5XdLFp3_). \n",
    "* There are other Guassian blur filters available, for example in `scipy.ndimage.filters`. You are welcome to experiment with those, but in this question, please implement your own."
   ]
  },
  {
   "cell_type": "code",
   "execution_count": 49,
   "metadata": {
    "id": "ebHGUU0eTzOl"
   },
   "outputs": [
    {
     "name": "stdout",
     "output_type": "stream",
     "text": [
      "knn score for k = 1 : unfiltered train data and unfiltered dev data 0.877\n",
      "knn score for k = 1 : filtered train data and unfiltered dev data 0.742\n",
      "knn score for k = 1 : filtered train data and filtered dev data 0.902\n",
      "knn score for k = 1 : unfiltered train data and filtered dev data 0.868\n"
     ]
    }
   ],
   "source": [
    "def Q1():\n",
    "    \n",
    "### STUDENT START ###\n",
    "\n",
    "    knn = KNeighborsClassifier(n_neighbors = 1)\n",
    "    weights = [.2,.2,.15,.2,.3,.2,.15,.2,.2]\n",
    "    pad_pixels = []\n",
    "    blurred_pixels = []\n",
    "    dev_blur = []\n",
    "    dev_blur_data = []\n",
    "    \n",
    "    #Turn pixels from 28x28 to 30x30 on mini_train_data\n",
    "    for pixel in mini_train_data:\n",
    "        pixel_28 = pixel.reshape(28,28)\n",
    "        pixel_30 = np.pad(pixel_28, pad_width = 1)\n",
    "        pad_pixels.append(pixel_30)\n",
    "        \n",
    "  \n",
    "    #for each 30x30 pixel, add 8 neighboring pixels with weights to make new pixel (Gaussian Blur)\n",
    "    for pixel in pad_pixels:\n",
    "        for row in range(1,29):\n",
    "                for col in range(1,29):\n",
    "                    neighbors = [pixel[row-1][col-1], pixel[row-1][col], pixel[row-1][col+1],\n",
    "                            pixel[row][col-1],   pixel[row][col],   pixel[row][col+1],\n",
    "                            pixel[row+1][col-1], pixel[row+1][col], pixel[row+1][col+1]]\n",
    "                    new_pixel = np.dot(neighbors, weights)\n",
    "                    blurred_pixels.append(new_pixel)\n",
    "                    \n",
    "    #Filter dev data like above\n",
    "    for pixel in dev_data:\n",
    "        pixel_28 = pixel.reshape(28,28)\n",
    "        pixel_30 = np.pad(pixel_28, pad_width = 1)\n",
    "        dev_blur.append(pixel_30)\n",
    "    for pixel in dev_blur:\n",
    "        for row in range(1,29):\n",
    "                for col in range(1,29):\n",
    "                    neighbors = [pixel[row-1][col-1], pixel[row-1][col], pixel[row-1][col+1],\n",
    "                            pixel[row][col-1],   pixel[row][col],   pixel[row][col+1],\n",
    "                            pixel[row+1][col-1], pixel[row+1][col], pixel[row+1][col+1]]\n",
    "                    new_pixel = np.dot(neighbors, weights)\n",
    "                    dev_blur_data.append(new_pixel)\n",
    "                      \n",
    "\n",
    "    #reshape blurred pixels from 784000 to 1000,784\n",
    "    blurred_mini_data = np.reshape(blurred_pixels, (1000,784))\n",
    "    dev_blur_data = np.reshape(dev_blur_data, (1000,784))\n",
    "\n",
    "        \n",
    "    #Train on filtered and unfiltered mini_data\n",
    "    knn.fit(mini_train_data,mini_train_labels)\n",
    "    print(\"knn score for k = 1 : unfiltered train data and unfiltered dev data\", knn.score(dev_data, dev_labels))\n",
    "    \n",
    "    knn.fit(blurred_mini_data,mini_train_labels)\n",
    "    print(\"knn score for k = 1 : filtered train data and unfiltered dev data\", knn.score(dev_data, dev_labels))\n",
    "    \n",
    "    knn.fit(blurred_mini_data,mini_train_labels)\n",
    "    print(\"knn score for k = 1 : filtered train data and filtered dev data\", knn.score(dev_blur_data, dev_labels))\n",
    "    \n",
    "    knn.fit(mini_train_data,mini_train_labels)\n",
    "    print(\"knn score for k = 1 : unfiltered train data and filtered dev data\", knn.score(dev_blur_data, dev_labels))\n",
    "    \n",
    "### STUDENT END ###\n",
    "\n",
    "Q1()"
   ]
  },
  {
   "cell_type": "markdown",
   "metadata": {},
   "source": [
    "`Answer:` It appears as though the best model is when we use both the filtered train data and filtered dev data. I believe this is because the blurring effect does improve results, however, for it to work properly you have to train the data with blurred images and test it on blurred images since the model is taking into account the blurring and it is looking for its effects in the prediction stage"
   ]
  },
  {
   "cell_type": "markdown",
   "metadata": {
    "id": "aN3HZPGuTzOn"
   },
   "source": [
    "### Question 2: Modeling your data and experimenting with different Naive Bayes models. \n",
    "---\n",
    "\n",
    "1. Produce two Naive Bayes models and evaluate their performances.  Recall that Naive Bayes estimates P(feature|label), where each label is a categorical, not a real number.\n",
    "  1. For the first model, map pixel values to either 0 or 1, representing white or black - you should pre-process the data or use `BernoulliNB`'s `binarize` parameter to set the white/black separation threshold to 0.1.  Use `BernoulliNB` to produce the model.\n",
    "  1. For the second model, map pixel values to either 0, 1, or 2, representing white, gray, or black - you should pre-process the data, seting the white/gray/black separation thresholds to 0.1 and 0.9.  Here you'll likely need to implement a `trianarize` helper function. Since we are going beyond the binary representation of our features, you should use `MultinomialNB` to produce the model.\n",
    "1. Show the Bernoulli model accuracy and the Multinomial model accuracy.\n",
    "1. Does the multinomial version improve the results? Why or why not?\n",
    "\n",
    "Notes:\n",
    "* Train on the mini train set.\n",
    "* Evaluate performance on the dev set.\n",
    "\n"
   ]
  },
  {
   "cell_type": "code",
   "execution_count": 307,
   "metadata": {
    "id": "_1edM3ehTzOn"
   },
   "outputs": [
    {
     "name": "stdout",
     "output_type": "stream",
     "text": [
      "The accuracy of the bernoulli model is:  0.82\n",
      "The accuracy of the Multinomial model is:  0.795\n"
     ]
    }
   ],
   "source": [
    "# Solution with binarization by explicit binarize function\n",
    "\n",
    "def Q2():\n",
    "\n",
    "### STUDENT START ###\n",
    "    #Bernoulli model and score\n",
    "    model_bin = BernoulliNB(binarize = .1)\n",
    "    model_bin.fit(mini_train_data, mini_train_labels)\n",
    "    print(\"The accuracy of the bernoulli model is: \",model_bin.score(dev_data, dev_labels))\n",
    "    \n",
    "    #Multinomial model - broken into steps:\n",
    "    model_multi = MultinomialNB()  \n",
    "    \n",
    "    #Helper function to make Multinomail classfier work\n",
    "    def trifecta(pixel):\n",
    "        #turns data into one of 3 values: 0,1,2 depending on the value of data (pixel)\n",
    "        if pixel < .1:\n",
    "            return 0\n",
    "        elif pixel < .9:\n",
    "            return 1\n",
    "        else:\n",
    "            return 2\n",
    "                \n",
    "    #Change data so it takes one of 3 values and reshape it to (1000, 784)\n",
    "    tri_data = []\n",
    "    for image in mini_train_data:\n",
    "        for pixel in image:\n",
    "            tri_data.append(trifecta(pixel))\n",
    "    tri_data = np.reshape(tri_data, (1000,784))\n",
    "\n",
    "    #Train model with the trianarized data and output its score\n",
    "    model_multi.fit(tri_data, mini_train_labels)\n",
    "    print(\"The accuracy of the Multinomial model is: \", model_multi.score(dev_data, dev_labels))\n",
    "### STUDENT END ###\n",
    "\n",
    "Q2()"
   ]
  },
  {
   "cell_type": "markdown",
   "metadata": {
    "id": "Bbbpzl5ETzOp"
   },
   "source": [
    "`ANSWER:` The multinomial does not improve results. I suspect this is due to overfitting the data. In the cell below I show that a trianarized 5 and 6 look more alike than a regular 5 and 6 (without alteration) so trianarizing potentially increases risk of misclassification"
   ]
  },
  {
   "cell_type": "code",
   "execution_count": 86,
   "metadata": {},
   "outputs": [
    {
     "data": {
      "text/plain": [
       "<matplotlib.image.AxesImage at 0x7fadc3206eb0>"
      ]
     },
     "execution_count": 86,
     "metadata": {},
     "output_type": "execute_result"
    },
    {
     "data": {
      "image/png": "[encoded data removed]",
      "text/plain": [
       "<Figure size 720x720 with 4 Axes>"
      ]
     },
     "metadata": {
      "needs_background": "light"
     },
     "output_type": "display_data"
    }
   ],
   "source": [
    "#This cell is meant to illustrate \n",
    "def trifecta(pixel):\n",
    "        #turns data into one of 3 values: 0,1,2 depending on the value of data (pixel)\n",
    "    if pixel < .1:\n",
    "        return 0\n",
    "    elif pixel < .9:\n",
    "        return 1\n",
    "    else:\n",
    "        return 2\n",
    "tri_data = []\n",
    "for image in mini_train_data:\n",
    "    for pixel in image:\n",
    "        tri_data.append(trifecta(pixel))\n",
    "tri_data = np.reshape(tri_data, (1000,784))\n",
    "\n",
    "f, (ax1, ax2, ax3, ax4) = plt.subplots(1, 4, figsize = (10,10))\n",
    "\n",
    "ax1.imshow(np.reshape(mini_train_data[1], (28,28)))\n",
    "ax2.imshow(np.reshape(tri_data[1], (28,28)))\n",
    "ax3.imshow(np.reshape(mini_train_data[4], (28,28)))\n",
    "ax4.imshow(np.reshape(tri_data[4], (28,28)))"
   ]
  },
  {
   "cell_type": "markdown",
   "metadata": {
    "id": "ymzuQZwsTzOp"
   },
   "source": [
    "### Question 3: Applying the grid search technique.\n",
    "1. Search across several values of the LaPlace smoothing parameter (alpha) to find its effect on a Bernoulli Naive Bayes model's performance.  Show the accuracy at each alpha value.\n",
    "1. What is the best value for alpha? What is the accuracy when alpha is near 0? Is this what you'd expect?\n",
    "\n",
    "Notes:\n",
    "* Set binarization threshold to 0.\n",
    "* Train on the mini train set.\n",
    "* Evaluate performance by 5-fold cross-validation. \n",
    "* Use `GridSearchCV(..., ..., cv=..., scoring='accuracy', iid=False)` to vary alpha and evaluate performance by cross-validation.\n",
    "* Cross-validation is based on partitions of the training data, so results will be a bit different than if you had used the dev set to evaluate performance.\n",
    "\n"
   ]
  },
  {
   "cell_type": "code",
   "execution_count": 278,
   "metadata": {
    "id": "1qc1fG0OTzOq"
   },
   "outputs": [
    {
     "name": "stdout",
     "output_type": "stream",
     "text": [
      "The optimal alpha value is :  {'alpha': 0.01}\n",
      "   mean_fit_time  std_fit_time  mean_score_time  std_score_time param_alpha  \\\n",
      "0       0.013904      0.004575         0.004039        0.003174         0.0   \n",
      "1       0.008083      0.000498         0.001527        0.000161      0.0001   \n",
      "2       0.007140      0.000179         0.001523        0.000194       0.001   \n",
      "3       0.007347      0.000614         0.001422        0.000149        0.01   \n",
      "4       0.007222      0.000458         0.001430        0.000128         0.1   \n",
      "5       0.006792      0.000051         0.001333        0.000028         0.5   \n",
      "6       0.006861      0.000092         0.001365        0.000092         1.0   \n",
      "7       0.006943      0.000141         0.001359        0.000043         2.0   \n",
      "8       0.006801      0.000052         0.001341        0.000027        10.0   \n",
      "\n",
      "              params  split0_test_score  split1_test_score  split2_test_score  \\\n",
      "0   {'alpha': 1e-10}              0.790              0.810              0.825   \n",
      "1  {'alpha': 0.0001}              0.815              0.825              0.850   \n",
      "2   {'alpha': 0.001}              0.810              0.825              0.860   \n",
      "3    {'alpha': 0.01}              0.815              0.825              0.855   \n",
      "4     {'alpha': 0.1}              0.800              0.815              0.855   \n",
      "5     {'alpha': 0.5}              0.800              0.830              0.855   \n",
      "6     {'alpha': 1.0}              0.800              0.820              0.850   \n",
      "7     {'alpha': 2.0}              0.800              0.805              0.855   \n",
      "8    {'alpha': 10.0}              0.755              0.780              0.840   \n",
      "\n",
      "   split3_test_score  split4_test_score  mean_test_score  std_test_score  \\\n",
      "0              0.805              0.805            0.807        0.011225   \n",
      "1              0.820              0.815            0.825        0.013038   \n",
      "2              0.810              0.810            0.823        0.019391   \n",
      "3              0.825              0.815            0.827        0.014697   \n",
      "4              0.830              0.810            0.822        0.019131   \n",
      "5              0.830              0.815            0.826        0.018276   \n",
      "6              0.825              0.815            0.822        0.016310   \n",
      "7              0.820              0.815            0.819        0.019339   \n",
      "8              0.785              0.770            0.786        0.028879   \n",
      "\n",
      "   rank_test_score  \n",
      "0                8  \n",
      "1                3  \n",
      "2                4  \n",
      "3                1  \n",
      "4                5  \n",
      "5                2  \n",
      "6                5  \n",
      "7                7  \n",
      "8                9  \n"
     ]
    }
   ],
   "source": [
    "def Q3(alphas):\n",
    "\n",
    "### STUDENT START ###\n",
    "    model_bern = BernoulliNB(binarize = 0)\n",
    "    model_grid = GridSearchCV(estimator = model_bern, param_grid = alphas, cv = 5, scoring = 'accuracy')\n",
    "    model_grid.fit(mini_train_data, mini_train_labels)\n",
    "    print(\"The optimal alpha value is : \", model_grid.best_params_)\n",
    "    print(pd.DataFrame.from_dict(model_grid.cv_results_))\n",
    "### STUDENT END ###\n",
    "\n",
    "alphas = {'alpha': [1.0e-10, 0.0001, 0.001, 0.01, 0.1, 0.5, 1.0, 2.0, 10.0]}\n",
    "Q3(alphas)\n"
   ]
  },
  {
   "cell_type": "markdown",
   "metadata": {
    "id": "6g4fnGFPTzOq"
   },
   "source": [
    "`ANSWER:` The best value for alpha is 0.01. The mean_test_score for alpha = 0.01 is  0.827 \n",
    "I did expect a smaller alpha value to give the best result since we don't want small frequency conditional probabilities to have much weight. On the otherhand, we don't want too small of an alpha value since that would reduce all the probabilities to near 0. So 0.01 makes since since it offers some weight but not too much or too little."
   ]
  },
  {
   "cell_type": "markdown",
   "metadata": {
    "id": "aQ6MaDU6TzOr"
   },
   "source": [
    "### Question 4: Experimenting with Gaussian Naive Bayes\n",
    "---\n",
    "1. Produce a model using Guassian Naive Bayes, which is intended for real-valued features, and evaluate performance. You will notice that it does not work so well. \n",
    "1. Diagnose and explain the problem.\n",
    "1. Apply a simple fix so that the model accuracy is around the same as for a Bernoulli Naive Bayes model. \n",
    "1. Show the model accuracy before your fix and the model accuracy after your fix.  \n",
    "1. Explain your solution.\n",
    "\n",
    "Notes:\n",
    "* Train on the mini train set.\n",
    "* Evaluate performance on the dev set.\n",
    "* Take a look at var_smoothing argument for GaussianNB.\n",
    "* Feel free to  examine theta and sigma to better understand what's happening. In general though, **it is not a good idea to mess with internal variables of the model**. These are stored in the model's `theta_` and `sigma_` attributes."
   ]
  },
  {
   "cell_type": "code",
   "execution_count": 319,
   "metadata": {
    "id": "XqW86YbKTzOr"
   },
   "outputs": [
    {
     "name": "stdout",
     "output_type": "stream",
     "text": [
      "This is the accuracy before fixing model: 0.5429999999999999\n",
      "Fitting 5 folds for each of 100 candidates, totalling 500 fits\n",
      "The best paramater value for var_smoothing is:  {'var_smoothing': 0.1}\n",
      "Prediction accuracy after calibrated: 0.784\n",
      "    mean_fit_time  std_fit_time  mean_score_time  std_score_time  \\\n",
      "0        0.011252      0.000739         0.008525        0.001875   \n",
      "1        0.009903      0.000726         0.007532        0.001391   \n",
      "2        0.010317      0.001462         0.006001        0.000911   \n",
      "3        0.008563      0.000188         0.006091        0.000353   \n",
      "4        0.008706      0.000398         0.005398        0.000288   \n",
      "..            ...           ...              ...             ...   \n",
      "95       0.008760      0.000671         0.005138        0.000325   \n",
      "96       0.008480      0.000672         0.005524        0.000310   \n",
      "97       0.009077      0.000519         0.005737        0.001046   \n",
      "98       0.008168      0.000293         0.005831        0.000252   \n",
      "99       0.008411      0.000404         0.005449        0.000325   \n",
      "\n",
      "   param_var_smoothing                                     params  \\\n",
      "0                  1.0                     {'var_smoothing': 1.0}   \n",
      "1             0.811131      {'var_smoothing': 0.8111308307896871}   \n",
      "2             0.657933       {'var_smoothing': 0.657933224657568}   \n",
      "3              0.53367       {'var_smoothing': 0.533669923120631}   \n",
      "4             0.432876     {'var_smoothing': 0.43287612810830584}   \n",
      "..                 ...                                        ...   \n",
      "95                 0.0   {'var_smoothing': 2.310129700083158e-09}   \n",
      "96                 0.0   {'var_smoothing': 1.873817422860387e-09}   \n",
      "97                 0.0   {'var_smoothing': 1.519911082952933e-09}   \n",
      "98                 0.0  {'var_smoothing': 1.2328467394420635e-09}   \n",
      "99                 0.0                   {'var_smoothing': 1e-09}   \n",
      "\n",
      "    split0_test_score  split1_test_score  split2_test_score  \\\n",
      "0               0.725              0.725              0.775   \n",
      "1               0.745              0.725              0.785   \n",
      "2               0.750              0.735              0.790   \n",
      "3               0.750              0.745              0.800   \n",
      "4               0.750              0.755              0.810   \n",
      "..                ...                ...                ...   \n",
      "95              0.580              0.545              0.525   \n",
      "96              0.580              0.545              0.525   \n",
      "97              0.580              0.545              0.525   \n",
      "98              0.580              0.545              0.525   \n",
      "99              0.580              0.545              0.525   \n",
      "\n",
      "    split3_test_score  split4_test_score  mean_test_score  std_test_score  \\\n",
      "0               0.705              0.745            0.735        0.023664   \n",
      "1               0.710              0.735            0.740        0.025298   \n",
      "2               0.735              0.745            0.751        0.020347   \n",
      "3               0.745              0.755            0.759        0.020833   \n",
      "4               0.760              0.750            0.765        0.022804   \n",
      "..                ...                ...              ...             ...   \n",
      "95              0.565              0.545            0.552        0.018868   \n",
      "96              0.565              0.545            0.552        0.018868   \n",
      "97              0.565              0.545            0.552        0.018868   \n",
      "98              0.565              0.545            0.552        0.018868   \n",
      "99              0.565              0.535            0.550        0.020000   \n",
      "\n",
      "    rank_test_score  \n",
      "0                22  \n",
      "1                21  \n",
      "2                19  \n",
      "3                17  \n",
      "4                15  \n",
      "..              ...  \n",
      "95               95  \n",
      "96               95  \n",
      "97               95  \n",
      "98               95  \n",
      "99              100  \n",
      "\n",
      "[100 rows x 14 columns]\n"
     ]
    }
   ],
   "source": [
    "def Q4():\n",
    "\n",
    "### STUDENT END ###\n",
    "\n",
    "    scores = []\n",
    "    model_gauss = GaussianNB()\n",
    "    model_gauss.fit(mini_train_data, mini_train_labels)\n",
    "    y_pred = model_gauss.predict(dev_data)\n",
    "    #Check accuracy of GaussianNB before tuning \n",
    "    error = (dev_labels != y_pred).sum()/len(y_pred)\n",
    "    print(\"This is the accuracy before fixing model:\", 1-error)\n",
    "\n",
    "    \n",
    "    #Finding the optimal value for var_smoothing (I put num = 100000 but it takes long time to run so switched it to 100 here)\n",
    "    params_NB = {'var_smoothing': np.logspace(0,-9, num=100)}\n",
    "    gs_NB = GridSearchCV(estimator=model_gauss, \n",
    "                     param_grid=params_NB, \n",
    "                     cv=5,   # use any cross validation technique \n",
    "                     verbose=1, \n",
    "                     scoring='accuracy') \n",
    "    gs_NB.fit(mini_train_data, mini_train_labels)\n",
    "    print(\"The best paramater value for var_smoothing is: \", gs_NB.best_params_)\n",
    "    \n",
    "    #Calculate accuracy after finding best value for var_smoothing\n",
    "    model_gauss = GaussianNB(var_smoothing = 0.1265108360190854)      \n",
    "    model_gauss.fit(mini_train_data, mini_train_labels)\n",
    "    y_pred = model_gauss.predict(dev_data)\n",
    "    #Check accuracy of GaussianNB\n",
    "    error = (dev_labels != y_pred).sum()/len(y_pred)\n",
    "    scores.append(1-error)\n",
    "    print('Prediction accuracy after calibrated: %.3f'% (1-error))\n",
    "\n",
    "    #Show summary results\n",
    "    print(pd.DataFrame.from_dict(gs_NB.cv_results_))\n",
    "    \n",
    "### STUDENT END ###\n",
    "\n",
    "Q4()"
   ]
  },
  {
   "cell_type": "markdown",
   "metadata": {},
   "source": [
    "### Question 5: Naive Bayes as a generative model\n",
    "---\n",
    "Because Naive Bayes produces a generative model, you can use it to generate digit images.\n",
    "\n",
    "1. Produce a Bernoulli Naive Bayes model and then use it to generate a 10x10 grid with 10 example images of each digit. Each pixel output will be either 0 or 1: randomly generating a number and then comparing it to the estimated probability of the pixel being either 0 or 1.  Show the grid.\n",
    "1. How do the generated digit images compare to the training digit images?\n",
    "\n",
    "Notes:\n",
    "* You can use np.random.rand() to generate random numbers from a uniform distribution.\n",
    "* The estimated probability of each pixel being 0 or 1 is stored in the model's `feature_log_prob_` attribute. You can use `np.exp()` to convert a log probability back to a probability.\n",
    "\n"
   ]
  },
  {
   "cell_type": "code",
   "execution_count": 418,
   "metadata": {},
   "outputs": [
    {
     "name": "stdout",
     "output_type": "stream",
     "text": [
      "(100, 784)\n"
     ]
    },
    {
     "data": {
      "image/png": "[encoded data removed]",
      "text/plain": [
       "<Figure size 864x864 with 100 Axes>"
      ]
     },
     "metadata": {
      "needs_background": "light"
     },
     "output_type": "display_data"
    }
   ],
   "source": [
    "def Q5(num_examples):\n",
    "\n",
    "### STUDENT START ###\n",
    "\n",
    "    #Introduce model and train\n",
    "    model = BernoulliNB()\n",
    "    model.fit(mini_train_data, mini_train_labels)\n",
    "    \n",
    "    #new data to be filled in\n",
    "    df = []\n",
    "    \n",
    "    #create list of probabilies\n",
    "    estimates_feature = np.exp(model.feature_log_prob_)\n",
    "    w = np.random.rand(num_examples, 784)\n",
    "    #They are both (10, 784)\n",
    "    \n",
    "    #decide if it's one or zero\n",
    "    for k in range(10):\n",
    "        plane = estimates_feature <= np.random.rand(num_examples, 784)\n",
    "        for i in plane:\n",
    "            df.append(i)\n",
    "\n",
    "\n",
    "\n",
    "    df = np.asarray(df)\n",
    "    print(df.shape)\n",
    "    df = np.reshape(df, (100,784))\n",
    "          \n",
    "        \n",
    "    #Create the 10 X 10 grid\n",
    "    f, axarr = plt.subplots(10,10, figsize = (12,12))\n",
    "\n",
    "    #For each subplot input a number 0-9 in ascending order top to bottom\n",
    "    for i in range(10):\n",
    "        for j in range(10):\n",
    "            axarr[i][j].imshow(np.reshape(df[i + j*10], (28,28)), cmap=plt.cm.gray_r)\n",
    "            plt.axis('off')\n",
    "\n",
    "### STUDENT END ###\n",
    "\n",
    "Q5(10)"
   ]
  },
  {
   "cell_type": "markdown",
   "metadata": {
    "id": "2ENXdzngTzOu"
   },
   "source": [
    "`ANSWER:` The images produced from the Bernoulli Naive Bayes model can be distinguished as numbers, but they are not as easily or nicely depicted as in the training data. "
   ]
  },
  {
   "cell_type": "markdown",
   "metadata": {
    "id": "CRkUEi50TzOu"
   },
   "source": [
    "### Question 6: Model Calibraiton\n",
    "---\n",
    "Recall that:\n",
    " * a **strongly calibrated** classifier is rougly 90% accurate when it says it is 90% accurate. The model's estimated posterior probability of the predicted class is indeed 0.9. \n",
    " * A **weakly calibrated** classifier is more accurate when it \"says\" it is more accurate. The actual accuracy is higher when the model's estimated posterior probability is higher.\n",
    " * A **poorly calibrated** classifier has no positive correlation between the model's estimate posterior probability and the actual accuracy.\n",
    "\n",
    "1. Produce a Bernoulli Naive Bayes model.  \n",
    "1. Evaluate performance: \n",
    "  1. Partition the dev set into several buckets based on the estimated posterior probabilities of the predicted classes (predict_proba)\n",
    "    - Think of it as a bin in a histogram, where each bin groups a range of estimated posterior probabilities of the predicted classes (predict_proba).\n",
    "    - Then estimate the actual accuracy the classifier achieved for each bucket. \n",
    "    - So, for each prediction:\n",
    "       - Find the bucket whose range includes the estimated posterior probability, \n",
    "       - and update \"correct\" and \"total\" counters accordingly. \n",
    "       - Show the accuracy for each bucket.\n",
    "1. How would you characterize the calibration for this Bernoulli Naive Bayes model according to the definitions above?\n",
    "\n",
    "Notes:\n",
    "* Set LaPlace smoothing (alpha) to the optimal value (from part 8).\n",
    "* Set binarization threshold to 0.\n",
    "* Train on the mini train set.\n",
    "* Evaluate perfromance on the dev set.\n",
    "\n"
   ]
  },
  {
   "cell_type": "code",
   "execution_count": 393,
   "metadata": {
    "id": "3Gz3NDY9TzOu"
   },
   "outputs": [
    {
     "name": "stdout",
     "output_type": "stream",
     "text": [
      "buckets =  [0.5, 0.9, 0.999, 0.99999, 0.9999999, 0.999999999, 0.99999999999, 0.9999999999999, 1.0]\n",
      " \n",
      "correct =  [743, 711, 733, 761, 758, 766, 742, 761, 812]\n",
      " \n",
      "total =  [913, 880, 913, 934, 929, 945, 907, 932, 1000]  \n",
      "The accuracies for bucket 0.5 is: 0.8138006571741512\n",
      "The accuracies for bucket 0.9 is: 0.8079545454545455\n",
      "The accuracies for bucket 0.999 is: 0.8028477546549836\n",
      "The accuracies for bucket 0.99999 is: 0.8147751605995718\n",
      "The accuracies for bucket 0.9999999 is: 0.8159311087190527\n",
      "The accuracies for bucket 0.999999999 is: 0.8105820105820106\n",
      "The accuracies for bucket 0.99999999999 is: 0.8180815876515987\n",
      "The accuracies for bucket 0.9999999999999 is: 0.8165236051502146\n",
      "The accuracies for bucket 1.0 is: 0.812\n"
     ]
    }
   ],
   "source": [
    "def Q6(buckets, correct, total):\n",
    "    \n",
    "### STUDENT START ###\n",
    "\n",
    "    #Part 1\n",
    "    model = BernoulliNB(alpha = 0.01 ,binarize = 0)\n",
    "    model.fit(mini_train_data, mini_train_labels)\n",
    "    y_pred = model.predict(dev_data)\n",
    "\n",
    "    #Part 2\n",
    "    for row in range(len(mini_train_data)):\n",
    "        pred_label = y_pred[row]\n",
    "        pred_prob = model.predict_proba(np.reshape(mini_train_data[row], (1,-1)))\n",
    "        true_label = dev_labels[row]\n",
    "        for bucket in range(len(buckets)):\n",
    "            if pred_prob[0][bucket] <= buckets[bucket]:\n",
    "                #add 1 to total correspoing to bucket\n",
    "                total[bucket] += 1\n",
    "                if pred_label == true_label:\n",
    "                    correct[bucket] += 1\n",
    "        #print(model.predict_proba(np.reshape(mini_train_data[row], (1,-1))))\n",
    "    print(\"buckets = \",buckets )\n",
    "    print(' ')\n",
    "    print(\"correct = \",correct)\n",
    "    print(' ')\n",
    "    print(\"total = \",total , end= ' ')\n",
    "    print(' ')\n",
    "    for i in range(len(buckets)):\n",
    "        print(\"The accuracies for bucket\", str(buckets[i]) , \"is:\" , str(correct[i]/total[i]))\n",
    "    \n",
    "### STUDENT END ###\n",
    "\n",
    "buckets = [0.5, 0.9, 0.999, 0.99999, 0.9999999, 0.999999999, 0.99999999999, 0.9999999999999, 1.0]\n",
    "correct = [0 for i in buckets]\n",
    "total = [0 for i in buckets]\n",
    "\n",
    "Q6(buckets, correct, total)"
   ]
  },
  {
   "cell_type": "markdown",
   "metadata": {
    "id": "7PYLz-1STzOu"
   },
   "source": [
    "`ANSWER:` The bucket 0.99999999999 has the best accuracy of 0.8180815876515987. Ideally this would be the size of the dev set partition to maximize performance. "
   ]
  },
  {
   "cell_type": "markdown",
   "metadata": {
    "id": "tIeZGen1TzOv"
   },
   "source": [
    "### Question 7 EXTRA CREDIT: Feature generation\n",
    "---\n",
    "1. Design new features to see if you can produce a Bernoulli Naive Bayes model with better performance.\n",
    "1. Show the accuracy of a model based on the original features and the accuracy of the model based on the new features.\n",
    "\n",
    "**Note that improving results is actually hard.**\n",
    "\n",
    "Here are a few ideas to get you started:\n",
    "- Try summing or averaging the pixel values in each row.\n",
    "- Try summing or averaging the pixel values in each column.\n",
    "- Try summing or averaging the pixel values in each square block. (pick various block sizes)\n",
    "- Try implementing [*maxpool*](https://computersciencewiki.org/index.php/Max-pooling_/_Pooling) features, taking a rolling maximum over sub-regions of a the image. \n",
    "- In any case, you can either transform the original data or add new \"features\" to it.\n",
    "\n",
    "Notes:\n",
    "* Train on the mini train set (enhanced to comprise the new features).\n",
    "* Evaulate performance on the dev set.\n",
    "* Ensure that your code is well commented."
   ]
  },
  {
   "cell_type": "code",
   "execution_count": 416,
   "metadata": {
    "id": "6GtYu5ezTzOv"
   },
   "outputs": [
    {
     "name": "stdout",
     "output_type": "stream",
     "text": [
      "The accuracy of the bernoulli model is:  0.82\n",
      "The accuracy of the bernoulli model is:  0.823\n",
      "Fitting 5 folds for each of 1000 candidates, totalling 5000 fits\n",
      "The best paramater value for binarize is:  {'binarize': 0.23898925662310497}\n"
     ]
    }
   ],
   "source": [
    "def Q7():\n",
    "\n",
    "### STUDENT START ###\n",
    "    model_bin = BernoulliNB(binarize = .1)\n",
    "    model_bin.fit(mini_train_data, mini_train_labels)\n",
    "    print(\"The accuracy of the bernoulli model is: \",model_bin.score(dev_data, dev_labels))\n",
    "    \n",
    "    model_bin = BernoulliNB(binarize = 0.23898925662310497)\n",
    "    model_bin.fit(mini_train_data, mini_train_labels)\n",
    "    print(\"The accuracy of the bernoulli model is: \",model_bin.score(dev_data, dev_labels))\n",
    "    \n",
    "    #Find the best binariazation parameter\n",
    "    params_NB = {'binarize': np.logspace(0,-9, num=1000)}\n",
    "    gs_NB = GridSearchCV(estimator=model_bin, \n",
    "                     param_grid=params_NB, \n",
    "                     cv=5,   # use any cross validation technique \n",
    "                     verbose=1, \n",
    "                     scoring='accuracy') \n",
    "    gs_NB.fit(mini_train_data, mini_train_labels)\n",
    "    print(\"The best paramater value for binarize is: \", gs_NB.best_params_)\n",
    "### STUDENT END ###\n",
    "\n",
    "Q7()"
   ]
  },
  {
   "cell_type": "code",
   "execution_count": null,
   "metadata": {
    "id": "4hOkGA6Rufd6"
   },
   "outputs": [],
   "source": []
  }
 ],
 "metadata": {
  "colab": {
   "collapsed_sections": [],
   "name": "firstname_lastname_project2.ipynb",
   "provenance": []
  },
  "kernelspec": {
   "display_name": "Python 3",
   "language": "python",
   "name": "python3"
  },
  "language_info": {
   "codemirror_mode": {
    "name": "ipython",
    "version": 3
   },
   "file_extension": ".py",
   "mimetype": "text/x-python",
   "name": "python",
   "nbconvert_exporter": "python",
   "pygments_lexer": "ipython3",
   "version": "3.8.8"
  },
  "toc": {
   "base_numbering": 1,
   "nav_menu": {},
   "number_sections": false,
   "sideBar": true,
   "skip_h1_title": true,
   "title_cell": "Table of Contents",
   "title_sidebar": "Contents",
   "toc_cell": false,
   "toc_position": {},
   "toc_section_display": true,
   "toc_window_display": false
  }
 },
 "nbformat": 4,
 "nbformat_minor": 1
}
