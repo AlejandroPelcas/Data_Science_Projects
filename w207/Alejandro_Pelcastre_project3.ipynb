{
 "cells": [
  {
   "cell_type": "markdown",
   "metadata": {
    "id": "rWAjdfIsTyhI"
   },
   "source": [
    "# Project 3: Topic Classification using Naive Bayes\n",
    "\n",
    "**Solution**"
   ]
  },
  {
   "cell_type": "markdown",
   "metadata": {
    "id": "p0KwRzrQTyhL"
   },
   "source": [
    "# Intro\n",
    "---\n",
    "In this project, you'll work with text data from newsgroup posts on a variety of topics. You'll train classifiers to distinguish posts by topics inferred from the text. Whereas with digit classification, where each input is relatively **dense** (represented as a 28x28 matrix of pixels, many of which are non-zero), here each document is relatively **sparse** (represented as a **bag-of-words**). Only a few words of the total vocabulary are active in any given document. The assumption is that a label depends only on the count of words, not their order.\n",
    "\n",
    "The `sklearn` documentation on feature extraction may be useful:\n",
    "http://scikit-learn.org/stable/modules/feature_extraction.html\n",
    "\n",
    "Each problem can be addressed succinctly with the included packages -- please don't add any more. Grading will be based on writing clean, commented code, along with a few short answers.\n",
    "\n",
    "As always, you're welcome to work on the project in groups and discuss ideas on Slack, but <b> please prepare your own write-up with your own code. </b>\n",
    "\n",
    "## Grading\n",
    "---\n",
    "- Make sure to answer every part in every question.\n",
    " - There are 7 questions and one extra credit question. \n",
    " - Read carefully what is asked including the notes.\n",
    " - Additional points may be deducted if:\n",
    "   - the code is not clean and well commented, \n",
    "   - and if the functions or answers are too long.\n",
    "\n",
    " ## Requirements:\n",
    "---\n",
    "1. Comment your code.\n",
    "1. All graphs should have titles, label for each axis, and if needed a legend. It should be understandable on its own.\n",
    "1. All code must run on colab.research.google.com\n",
    "1. You should not import any additional libraries.\n",
    "1. Try and minimize the use of the global namespace (meaning keep things in functions).\n",
    "\n"
   ]
  },
  {
   "cell_type": "code",
   "execution_count": 1,
   "metadata": {
    "id": "QNNjknnZTyhN"
   },
   "outputs": [],
   "source": [
    "# This tells matplotlib not to try opening a new window for each plot.\n",
    "%matplotlib inline\n",
    "\n",
    "# General libraries.\n",
    "import re\n",
    "import numpy as np\n",
    "import pandas as pd\n",
    "import matplotlib.pyplot as plt\n",
    "\n",
    "# SK-learn libraries for learning.\n",
    "from sklearn.pipeline import Pipeline\n",
    "from sklearn.neighbors import KNeighborsClassifier\n",
    "from sklearn.linear_model import LogisticRegression\n",
    "from sklearn.naive_bayes import BernoulliNB\n",
    "from sklearn.naive_bayes import MultinomialNB\n",
    "\n",
    "# SK-learn libraries for evaluation.\n",
    "from sklearn.metrics import confusion_matrix\n",
    "from sklearn import metrics\n",
    "from sklearn.metrics import classification_report\n",
    "\n",
    "# SK-learn library for importing the newsgroup data.\n",
    "from sklearn.datasets import fetch_20newsgroups\n",
    "\n",
    "# SK-learn libraries for feature extraction from text.\n",
    "from sklearn.feature_extraction.text import *\n",
    "\n",
    "import nltk"
   ]
  },
  {
   "cell_type": "markdown",
   "metadata": {
    "id": "orEWeRJaTyhO"
   },
   "source": [
    "Load the data, stripping out metadata so that only textual features will be used, and restricting documents to 4 specific topics. By default, newsgroups data is split into training and test sets, but here the test set gets further split into development and test sets.  (If you remove the categories argument from the fetch function calls, you'd get documents from all 20 topics.)"
   ]
  },
  {
   "cell_type": "code",
   "execution_count": 360,
   "metadata": {
    "id": "5b9J-D5DTyhP"
   },
   "outputs": [
    {
     "name": "stdout",
     "output_type": "stream",
     "text": [
      "training label shape: (2034,)\n",
      "dev label shape: (676,)\n",
      "test label shape: (677,)\n",
      "labels names: ['alt.atheism', 'comp.graphics', 'sci.space', 'talk.religion.misc']\n",
      "train data length: 2034\n"
     ]
    }
   ],
   "source": [
    "categories = ['alt.atheism', 'talk.religion.misc', 'comp.graphics', 'sci.space']\n",
    "newsgroups_train = fetch_20newsgroups(subset='train',\n",
    "                                      remove=('headers', 'footers', 'quotes'),\n",
    "                                      categories=categories)\n",
    "newsgroups_test  = fetch_20newsgroups(subset='test',\n",
    "                                      remove=('headers', 'footers', 'quotes'),\n",
    "                                      categories=categories)\n",
    "\n",
    "num_test = int(len(newsgroups_test.target) / 2)\n",
    "test_data, test_labels   = newsgroups_test.data[num_test:], newsgroups_test.target[num_test:]\n",
    "dev_data, dev_labels     = newsgroups_test.data[:num_test], newsgroups_test.target[:num_test]\n",
    "train_data, train_labels = newsgroups_train.data, newsgroups_train.target\n",
    "\n",
    "print('training label shape:', train_labels.shape)\n",
    "print('dev label shape:',      dev_labels.shape)\n",
    "print('test label shape:',     test_labels.shape)\n",
    "print('labels names:',         newsgroups_train.target_names)\n",
    "print('train data length:', len(train_data))"
   ]
  },
  {
   "cell_type": "markdown",
   "metadata": {
    "id": "zOS6IyT0TyhR"
   },
   "source": [
    "### Question 1: Examining your data\n",
    "---\n",
    "\n",
    " 1. For each of the first 5 training examples, print the text of the message along with the label (checkout newsgroups_train.target_names)."
   ]
  },
  {
   "cell_type": "code",
   "execution_count": 441,
   "metadata": {
    "id": "LFFUipfaTyhS"
   },
   "outputs": [
    {
     "name": "stdout",
     "output_type": "stream",
     "text": [
      "The text message reads: Hi,\n",
      "\n",
      "I've noticed that if you only save a model (with all your mapping planes\n",
      "positioned carefully) to a .3DS file that when you reload it after restarting\n",
      "3DS, they are given a default position and orientation.  But if you save\n",
      "to a .PRJ file their positions/orientation are preserved.  Does anyone\n",
      "know why this information is not stored in the .3DS file?  Nothing is\n",
      "explicitly said in the manual about saving texture rules in the .PRJ file. \n",
      "I'd like to be able to read the texture rule information, does anyone have \n",
      "the format for the .PRJ file?\n",
      "\n",
      "Is the .CEL file format available from somewhere?\n",
      "\n",
      "Rych\n",
      "The label is:\n",
      "comp.graphics\n",
      "-----------------------------------------------------\n",
      "The text message reads: \n",
      "\n",
      "Seems to be, barring evidence to the contrary, that Koresh was simply\n",
      "another deranged fanatic who thought it neccessary to take a whole bunch of\n",
      "folks with him, children and all, to satisfy his delusional mania. Jim\n",
      "Jones, circa 1993.\n",
      "\n",
      "\n",
      "Nope - fruitcakes like Koresh have been demonstrating such evil corruption\n",
      "for centuries.\n",
      "The label is:\n",
      "talk.religion.misc\n",
      "-----------------------------------------------------\n",
      "The text message reads: \n",
      " >In article <1993Apr19.020359.26996@sq.sq.com>, msb@sq.sq.com (Mark Brader) \n",
      "\n",
      "MB>                                                             So the\n",
      "MB> 1970 figure seems unlikely to actually be anything but a perijove.\n",
      "\n",
      "JG>Sorry, _perijoves_...I'm not used to talking this language.\n",
      "\n",
      "Couldn't we just say periapsis or apoapsis?\n",
      "\n",
      " \n",
      "The label is:\n",
      "sci.space\n",
      "-----------------------------------------------------\n",
      "The text message reads: I have a request for those who would like to see Charley Wingate\n",
      "respond to the \"Charley Challenges\" (and judging from my e-mail, there\n",
      "appear to be quite a few of you.)  \n",
      "\n",
      "It is clear that Mr. Wingate intends to continue to post tangential or\n",
      "unrelated articles while ingoring the Challenges themselves.  Between\n",
      "the last two re-postings of the Challenges, I noted perhaps a dozen or\n",
      "more posts by Mr. Wingate, none of which answered a single Challenge.  \n",
      "\n",
      "It seems unmistakable to me that Mr. Wingate hopes that the questions\n",
      "will just go away, and he is doing his level best to change the\n",
      "subject.  Given that this seems a rather common net.theist tactic, I\n",
      "would like to suggest that we impress upon him our desire for answers,\n",
      "in the following manner:\n",
      "\n",
      "1. Ignore any future articles by Mr. Wingate that do not address the\n",
      "Challenges, until he answers them or explictly announces that he\n",
      "refuses to do so.\n",
      "\n",
      "--or--\n",
      "\n",
      "2. If you must respond to one of his articles, include within it\n",
      "something similar to the following:\n",
      "\n",
      "    \"Please answer the questions posed to you in the Charley Challenges.\"\n",
      "\n",
      "Really, I'm not looking to humiliate anyone here, I just want some\n",
      "honest answers.  You wouldn't think that honesty would be too much to\n",
      "ask from a devout Christian, would you?  \n",
      "\n",
      "Nevermind, that was a rhetorical question.\n",
      "The label is:\n",
      "alt.atheism\n",
      "-----------------------------------------------------\n",
      "The text message reads: AW&ST  had a brief blurb on a Manned Lunar Exploration confernce\n",
      "May 7th  at Crystal City Virginia, under the auspices of AIAA.\n",
      "\n",
      "Does anyone know more about this?  How much, to attend????\n",
      "\n",
      "Anyone want to go?\n",
      "The label is:\n",
      "sci.space\n",
      "-----------------------------------------------------\n"
     ]
    }
   ],
   "source": [
    "def Q1(num_examples=5):\n",
    "    ### STUDENT START ###\n",
    "    for i in range(num_examples):\n",
    "        print('The text message reads:', end= ' ')\n",
    "        print(train_data[i])\n",
    "        print('The label is:')\n",
    "        if train_labels[i] == 0:\n",
    "            print('alt.atheism')\n",
    "        if train_labels[i] == 1:\n",
    "            print('comp.graphics')\n",
    "        if train_labels[i] == 2:\n",
    "            print('sci.space')\n",
    "        if train_labels[i] == 3:\n",
    "            print('talk.religion.misc')\n",
    "        print('-----------------------------------------------------')\n",
    "    ### STUDENT END ###\n",
    "\n",
    "Q1(5)"
   ]
  },
  {
   "cell_type": "markdown",
   "metadata": {
    "id": "r53zpu-mTyhU"
   },
   "source": [
    "### Question 2: Text representation\n",
    "---\n",
    "\n",
    "1. Transform the training data into a matrix of **word** unigram feature vectors.\n",
    "  1. What is the size of the vocabulary? \n",
    "  1. What is the average number of non-zero features per example?  \n",
    "  1. What is the fraction of the non-zero entries in the matrix?  \n",
    "  1. What are the 0th and last feature strings (in alphabetical order)?\n",
    "  - _Use `CountVectorization` and its `.fit_transform` method.  Use `.nnz` and `.shape` attributes, and `.get_feature_names` method._\n",
    "1. Now transform the training data into a matrix of **word** unigram feature vectors restricting to the vocabulary with these 4 words: [\"atheism\", \"graphics\", \"space\", \"religion\"].  Confirm the size of the vocabulary. \n",
    "  1. What is the average number of non-zero features per example?\n",
    "  - _Use `CountVectorization(vocabulary=...)` and its `.transform` method._\n",
    "1. Now transform the training data into a matrix of **character** bigram and trigram feature vectors.  \n",
    "  1. What is the size of the vocabulary?\n",
    "  - _Use `CountVectorization(analyzer=..., ngram_range=...)` and its `.fit_transform` method._\n",
    "1. Now transform the training data into a matrix of **word** unigram feature vectors and prune words that appear in fewer than 10 documents.  \n",
    "  1. What is the size of the vocabulary?<br/>\n",
    "  - _Use `CountVectorization(min_df=...)` and its `.fit_transform` method._\n",
    "1. Now again transform the training data into a matrix of **word** unigram feature vectors. \n",
    " 1. What is the fraction of words in the development vocabulary that is missing from the training vocabulary?\n",
    " - _Hint: Build vocabularies for both train and dev and look at the size of the difference._\n",
    "\n",
    "Notes:\n",
    "* `.fit_transform` makes 2 passes through the data: first it computes the vocabulary (\"fit\"), second it converts the raw text into feature vectors using the vocabulary (\"transform\").\n",
    "* `.fit_transform` and `.transform` return sparse matrix objects.  See about them at http://docs.scipy.org/doc/scipy-0.14.0/reference/generated/scipy.sparse.csr_matrix.html. "
   ]
  },
  {
   "cell_type": "code",
   "execution_count": 467,
   "metadata": {
    "id": "_xkWZwBVTyhV"
   },
   "outputs": [
    {
     "name": "stdout",
     "output_type": "stream",
     "text": [
      "(2034, 26879)\n",
      "1A. The size of the vocabulary is 26879\n",
      "1B. The avg number of nonzero features per example is: 96.70599803343165\n",
      "1C. The fraction of nonzero entrees in matrix is: 0.0035978272269590263\n",
      "1D. The 0th string is: 00\n",
      "1D. The last string is: zyxel\n",
      "-----------------\n",
      "2. The vocab with four words is of size: 4\n",
      "2A. The avg number of nonzero features when our vocab is 4 words is: 0.26843657817109146\n",
      "-----------------\n",
      "(2034, 35478)\n",
      "3. The size of the vocabulary of bigram and trigram characters is: 35478\n",
      "-----------------\n",
      "Part 4: The size of the vocabulary of unigram words that appear at least 10 times is: 3064\n",
      "-----------------\n",
      "Part 5: Fraction of words in dev data compared to train data: 0.604412366531493\n"
     ]
    }
   ],
   "source": [
    "def Q2():\n",
    "    ### STUDENT START ###\n",
    "    \n",
    "    ##Part 1##\n",
    "    #1-A\n",
    "    vector_train = CountVectorizer()\n",
    "    X = vector_train.fit_transform(train_data)\n",
    "    print(X.shape)\n",
    "    print(\"1A. The size of the vocabulary is\", X.shape[1])\n",
    "    \n",
    "    #Count avg number of nonzero features per example\n",
    "    total = 0\n",
    "    for i in range(2034):\n",
    "        total += X[i].nnz\n",
    "    print(\"1B. The avg number of nonzero features per example is:\", (total/2034))\n",
    "    \n",
    "    #Fraction of nonzero entrees in matrix\n",
    "    #Total entrees of matrix\n",
    "    total_entrees = 2034*26879 \n",
    "    count = 0\n",
    "    print(\"1C. The fraction of nonzero entrees in matrix is:\" , ((total) / total_entrees))\n",
    "    \n",
    "    #0th and last feature string\n",
    "    vector_train.get_feature_names().sort()\n",
    "    print(\"1D. The 0th string is:\", vector_train.get_feature_names()[0])\n",
    "    print(\"1D. The last string is:\", vector_train.get_feature_names()[len(vector_train.get_feature_names()) - 1])\n",
    "    print(\"-----------------\")\n",
    "    \n",
    "    ##Part 2##\n",
    "    vector_train_vocab = CountVectorizer(vocabulary =  [\"atheism\", \"graphics\", \"space\", \"religion\"])\n",
    "    X_mini = vector_train_vocab.transform(train_data)\n",
    "    print(\"2. The vocab with four words is of size:\", X_mini.shape[1])\n",
    "    \n",
    "    #Count avg number of nonzero features per example\n",
    "    total = 0\n",
    "    for i in range(2034):\n",
    "        total += X_mini[i].nnz\n",
    "    print(\"2A. The avg number of nonzero features when our vocab is 4 words is:\",  (total/2034))\n",
    "    print(\"-----------------\")\n",
    "\n",
    "    \n",
    "    ## Part 3 ##\n",
    "    vector_char_bitri = CountVectorizer(analyzer= 'char', ngram_range = (2,3))\n",
    "    s = vector_char_bitri.fit_transform(train_data)\n",
    "    print(\"3. The size of the vocabulary of bigram and trigram characters is:\" , s.shape[1])\n",
    "    print(\"-----------------\")\n",
    "    \n",
    "    ## Part 4 ##\n",
    "    word_uni = CountVectorizer(analyzer= 'word', min_df = 10)\n",
    "    trans_word_uni = word_uni.fit_transform(train_data)\n",
    "    print(\"Part 4: The size of the vocabulary of unigram words that appear at least 10 times is:\" , trans_word_uni.shape[1])\n",
    "    print(\"-----------------\")\n",
    "    \n",
    "    ## Part 5 ##\n",
    "    word_uni = CountVectorizer(analyzer= 'word')\n",
    "    trans_word_uni_train = word_uni.fit_transform(train_data)\n",
    "    trans_word_uni_dev   = word_uni.fit_transform(dev_data)\n",
    "    print(\"Part 5: Fraction of words in dev data compared to train data:\" ,trans_word_uni_dev.shape[1]/trans_word_uni_train.shape[1])\n",
    "\n",
    "    \n",
    "    ### STUDENT END ###\n",
    "\n",
    "Q2()\n"
   ]
  },
  {
   "cell_type": "markdown",
   "metadata": {
    "id": "dIaSTL9OTyhX"
   },
   "source": [
    "### Question 3: Initial model evaluation\n",
    "---\n",
    "\n",
    "1. Transform the training and development data to matrices of word unigram feature vectors.\n",
    "1. Produce several k-Nearest Neigbors models by varying k, including one with k set to optimize f1 score.  For each model, show the k value and f1 score. \n",
    "1. Produce several Naive Bayes models by varying smoothing (alpha), including one with alpha set approximately to optimize f1 score.  For each model, show the alpha value and f1 score.\n",
    "1. Produce several Logistic Regression models by varying L2 regularization strength (C), including one with C set approximately to optimize f1 score.  For each model, show the C value, f1 score, and sum of squared weights for each topic.\n",
    "1. Why doesn't k-Nearest Neighbors work well for this problem?\n",
    "1. Why doesn't Logistic Regression work as well as Naive Bayes does?\n",
    "1. What is the relationship between logistic regression's sum of squared weights vs. C value?\n",
    "\n",
    "Notes:\n",
    "* Train on the transformed training data.\n",
    "* Evaluate on the transformed development data.\n",
    "* You can use `CountVectorizer` and its `.fit_transform` and `.transform` methods to transform data.\n",
    "* You can use `KNeighborsClassifier(...)` to produce a k-Nearest Neighbors model.\n",
    "* You can use `MultinomialNB(...)` to produce a Naive Bayes model.\n",
    "* You can use `LogisticRegression(C=..., solver=\"liblinear\", multi_class=\"auto\")` to produce a Logistic Regression model.\n",
    "* You can use `LogisticRegression`'s `.coef_` method to get weights for each topic.\n",
    "* You can use `metrics.f1_score(..., average=\"weighted\")` to compute f1 score."
   ]
  },
  {
   "cell_type": "code",
   "execution_count": 453,
   "metadata": {
    "id": "g9JvhGBRTyhX",
    "scrolled": false
   },
   "outputs": [
    {
     "name": "stdout",
     "output_type": "stream",
     "text": [
      "Accuracy for k = 1  neighbors is 0.3831360946745562\n",
      "The F1 score for k = 1  is: 0.38576918749596\n",
      " \n",
      "Accuracy for k = 2  neighbors is 0.39644970414201186\n",
      "The F1 score for k = 2  is: 0.4123572842396068\n",
      " \n",
      "Accuracy for k = 3  neighbors is 0.41420118343195267\n",
      "The F1 score for k = 3  is: 0.41998734432014306\n",
      " \n",
      "Accuracy for k = 4  neighbors is 0.3949704142011834\n",
      "The F1 score for k = 4  is: 0.38681802901761536\n",
      " \n",
      "Accuracy for k = 5  neighbors is 0.42307692307692313\n",
      "The F1 score for k = 5  is: 0.4173931225320104\n",
      " \n",
      "Accuracy for k = 6  neighbors is 0.4423076923076923\n",
      "The F1 score for k = 6  is: 0.43795033052862514\n",
      " \n",
      "Accuracy for k = 7  neighbors is 0.44378698224852076\n",
      "The F1 score for k = 7  is: 0.4370948644358654\n",
      " \n",
      "Accuracy for k = 8  neighbors is 0.44082840236686394\n",
      "The F1 score for k = 8  is: 0.4346732235629169\n",
      " \n",
      "Accuracy for k = 9  neighbors is 0.4304733727810651\n",
      "The F1 score for k = 9  is: 0.42438012794232743\n",
      " \n",
      " \n",
      "k = 7 gives the highest F1 score (.44) \n",
      "----------------------------------------\n",
      "Accuracy for alpha = 0.001   is 0.7751479289940828\n",
      "The F1 score for alpha = 0.001  is: 0.7800439743725949\n",
      " \n",
      "Accuracy for alpha = 0.01   is 0.7795857988165681\n",
      "The F1 score for alpha = 0.01  is: 0.7840052757787004\n",
      " \n",
      "Accuracy for alpha = 0.1   is 0.7928994082840237\n",
      "The F1 score for alpha = 0.1  is: 0.7954935780581611\n",
      " \n",
      "Accuracy for alpha = 0.2   is 0.7899408284023669\n",
      "The F1 score for alpha = 0.2  is: 0.7922518237155166\n",
      " \n",
      "Accuracy for alpha = 0.5   is 0.7884615384615384\n",
      "The F1 score for alpha = 0.5  is: 0.7906367807235509\n",
      " \n",
      "Accuracy for alpha = 1   is 0.7810650887573964\n",
      "The F1 score for alpha = 1  is: 0.7843981539130703\n",
      " \n",
      "Accuracy for alpha = 10   is 0.6967455621301775\n",
      "The F1 score for alpha = 10  is: 0.7260096904346977\n",
      " \n",
      "Accuracy for alpha = 20   is 0.6745562130177515\n",
      "The F1 score for alpha = 20  is: 0.7147027966154291\n",
      " \n",
      "Accuracy for alpha = 50   is 0.6153846153846154\n",
      "The F1 score for alpha = 50  is: 0.6689115401292535\n",
      " \n",
      " \n",
      "alpha = .1 optimizes the f1 score (.7928) of our alphas\n",
      "----------------------------------------\n",
      "Accuracy for C = 0.001   is 0.6375739644970414\n",
      "The F1 score for C = 0.001  is: 0.6558432477933984\n",
      "The sum of squared weights are: 0.733959920496575\n",
      " \n",
      "Accuracy for C = 0.01   is 0.6789940828402368\n",
      "The F1 score for C = 0.01  is: 0.6932884239221984\n",
      "The sum of squared weights are: 10.593685884033746\n",
      " \n",
      "Accuracy for C = 0.1   is 0.7041420118343196\n",
      "The F1 score for C = 0.1  is: 0.7116596694267557\n",
      "The sum of squared weights are: 102.2723362375781\n",
      " \n",
      "Accuracy for C = 0.2   is 0.7130177514792899\n",
      "The F1 score for C = 0.2  is: 0.7201621335604682\n",
      "The sum of squared weights are: 184.48295629733565\n",
      " \n",
      "Accuracy for C = 0.5   is 0.7159763313609467\n",
      "The F1 score for C = 0.5  is: 0.7218796970690614\n",
      "The sum of squared weights are: 373.7593784795698\n",
      " \n",
      "Accuracy for C = 1   is 0.7011834319526626\n",
      "The F1 score for C = 1  is: 0.7062806119509139\n",
      "The sum of squared weights are: 601.5749566981582\n",
      " \n",
      "Accuracy for C = 10   is 0.6908284023668638\n",
      "The F1 score for C = 10  is: 0.6951785119454146\n",
      "The sum of squared weights are: 2104.475100010169\n",
      " \n",
      "Accuracy for C = 20   is 0.6893491124260356\n",
      "The F1 score for C = 20  is: 0.6933805030888096\n",
      "The sum of squared weights are: 2835.9385059367305\n",
      " \n",
      "Accuracy for C = 50   is 0.6849112426035503\n",
      "The F1 score for C = 50  is: 0.688476540122186\n",
      "The sum of squared weights are: 4022.6897952892677\n",
      " \n",
      "----------------------------------------\n"
     ]
    },
    {
     "data": {
      "image/png": "[encoded data removed]",
      "text/plain": [
       "<Figure size 432x288 with 1 Axes>"
      ]
     },
     "metadata": {
      "needs_background": "light"
     },
     "output_type": "display_data"
    }
   ],
   "source": [
    "def Q3():\n",
    "    ### STUDENT START ###\n",
    "    \n",
    "    #Part 1 \n",
    "    count_v = CountVectorizer()\n",
    "    train_v = count_v.fit_transform(train_data)\n",
    "    dev_v  = count_v.transform(dev_data)\n",
    "\n",
    "    #Part 2    \n",
    "    for k in range(1,10):\n",
    "        knn = KNeighborsClassifier(n_neighbors = k)\n",
    "        knn.fit(train_v, train_labels)\n",
    "        y_pred = knn.predict(dev_v)\n",
    "        error = (dev_labels != y_pred).sum()/len(y_pred)\n",
    "        print(\"Accuracy for k =\",k,\" neighbors is\", 1 - error)\n",
    "        print(\"The F1 score for k =\",k,\" is:\", metrics.f1_score(y_pred, dev_labels, average=\"weighted\"))\n",
    "        print(\" \")\n",
    "    print(' ')\n",
    "    print(\"k = 7 gives the highest F1 score (.44) \")\n",
    "    print('----------------------------------------')\n",
    "    \n",
    "    #Part 3\n",
    "    alphas = [.001, .01 , .1 , .2, .5, 1, 10,20,50]\n",
    "    for a in alphas:\n",
    "        model = MultinomialNB(alpha = a)\n",
    "        model.fit(train_v, train_labels)\n",
    "        y_pred = model.predict(dev_v)\n",
    "        error = (dev_labels != y_pred).sum()/len(y_pred)\n",
    "        print(\"Accuracy for alpha =\",a,\"  is\", 1 - error)\n",
    "        print(\"The F1 score for alpha =\",a,\" is:\", metrics.f1_score(y_pred, dev_labels, average=\"weighted\"))\n",
    "        print(' ')\n",
    "    print(' ')\n",
    "    print(\"alpha = .1 optimizes the f1 score (.7928) of our alphas\")\n",
    "    print('----------------------------------------')\n",
    "\n",
    "    \n",
    "    #Part 4\n",
    "    weights_sum = []\n",
    "    for c in alphas:\n",
    "        model = LogisticRegression(C=c, solver=\"liblinear\", multi_class=\"auto\")\n",
    "        model.fit(train_v, train_labels)\n",
    "        y_pred = model.predict(dev_v)\n",
    "        error = (dev_labels != y_pred).sum()/len(y_pred)\n",
    "        print(\"Accuracy for C =\",c,\"  is\", 1 - error)\n",
    "        print(\"The F1 score for C =\",c,\" is:\", metrics.f1_score(y_pred, dev_labels, average=\"weighted\"))\n",
    "        print(\"The sum of squared weights are:\", np.square(model.coef_).sum())\n",
    "        weights_sum.append(np.square(model.coef_).sum())\n",
    "        print(' ')\n",
    "    print('----------------------------------------')\n",
    "\n",
    "    plt.scatter(x = alphas, y = weights_sum)\n",
    "    plt.xlabel(\"C values \")\n",
    "    plt.ylabel(\"squared weights summed \")\n",
    "    plt.title(\"Sum of square weights vs. C value\")\n",
    "    \n",
    "    \n",
    " \n",
    "    \n",
    "    ### STUDENT END ###\n",
    "\n",
    "Q3()"
   ]
  },
  {
   "cell_type": "markdown",
   "metadata": {
    "id": "1K9kU5AETyhY"
   },
   "source": [
    "ANSWER:  \n",
    "\n",
    "Part 5: KNN does not work well for this because distance between words is rather arbitrary or difficult to encompass. For example, what's the distance between \"Hello\" and \"leaf\"? I'm sure the model has some way to measure distance but its more difficult to do with categorical data vs. quantitative ones (easy as euclidian distance for a metric).  \n",
    "\n",
    "For part 6: Logistic Reg doesn't work as well for this type of data as Naive Bayes because it is prone to overfitting with a large set of featues (aka the vocabulary). Naive Bayes does not have this issue and works fine with many words.\n",
    "\n",
    "Part 7: There seems to be a non-linear correlation between C values and the weighted sum squares. As C increases so does weighted sums. It does seem like it slows down how much higher the weights go like a logarithm pattern"
   ]
  },
  {
   "cell_type": "markdown",
   "metadata": {
    "id": "b46HltEPTyhY"
   },
   "source": [
    "### Question 4: Feature exploration\n",
    "---\n",
    "\n",
    "1. Transform the data to a matrix of word **bigram** feature vectors.  Produce a Logistic Regression model.\n",
    "1. For each topic, find the 5 features with the largest weights (not absolute value). If there are no overlaps, you can expect 20 features in total.\n",
    "1. Show a 20 row (features) x 4 column (topics) table of the weights. So, for each of the features (words) found, we show their weight for all topics.\n",
    "1. Do you see any surprising features in this table?\n",
    "\n",
    "Notes:\n",
    "* Train on the transformed training data.\n",
    "* You can use `CountVectorizer` and its `.fit_transform` method to transform data.\n",
    "* You can use `LogisticRegression(C=0.5, solver=\"liblinear\", multi_class=\"auto\")` to produce a Logistic Regression model.\n",
    "* You can use `LogisticRegression`'s `.coef_` method to get weights for each topic.\n",
    "* You can use `np.argsort` to get indices sorted by element value. \n"
   ]
  },
  {
   "cell_type": "code",
   "execution_count": 459,
   "metadata": {
    "id": "DerfvONsTyha"
   },
   "outputs": [
    {
     "name": "stdout",
     "output_type": "stream",
     "text": [
      " \n",
      " \n",
      " \n",
      " \n",
      "For topic 1  the top 5 features are:\n",
      "claim that\n",
      "cheers kent\n",
      "was just\n",
      "you are\n",
      "are you\n",
      " \n",
      "For topic 2  the top 5 features are:\n",
      "looking for\n",
      "in advance\n",
      "comp graphics\n",
      "out there\n",
      "is there\n",
      " \n",
      "For topic 3  the top 5 features are:\n",
      "the space\n",
      "the moon\n",
      "sci space\n",
      "and such\n",
      "it was\n",
      " \n",
      "For topic 4  the top 5 features are:\n",
      "the fbi\n",
      "cheers kent\n",
      "ignorance is\n",
      "but he\n",
      "of jesus\n",
      " \n",
      "               alt.atheism  talk.religion.misc  comp.graphics  sci.space\n",
      "claim that        0.605549           -0.199042      -0.274383  -0.140369\n",
      "cheers kent       0.555719           -0.697903      -0.663776   0.534812\n",
      "was just          0.482050           -0.131419      -0.128862  -0.227465\n",
      "you are           0.472741           -0.279913      -0.481426   0.028367\n",
      "are you           0.446954           -0.248257      -0.097166  -0.305622\n",
      "looking for      -0.630341            1.108366      -0.499926  -0.571863\n",
      "in advance       -0.459351            0.832568      -0.438488  -0.418455\n",
      "comp graphics    -0.292166            0.801202      -0.370919  -0.285185\n",
      "out there        -0.274802            0.758683      -0.479004  -0.277087\n",
      "is there         -0.340882            0.754978      -0.468250  -0.257080\n",
      "the space        -0.268187           -0.530086       0.871162  -0.273842\n",
      "the moon         -0.350563           -0.492719       0.831235  -0.213792\n",
      "sci space        -0.258008           -0.329149       0.621132  -0.221247\n",
      "and such         -0.204269           -0.337521       0.590560  -0.218199\n",
      "it was           -0.203030           -0.309663       0.525345  -0.313554\n",
      "the fbi          -0.131974           -0.211344      -0.295325   0.551996\n",
      "cheers kent       0.555719           -0.697903      -0.663776   0.534812\n",
      "ignorance is     -0.158011           -0.171067      -0.139579   0.504306\n",
      "but he           -0.190019           -0.216872      -0.137372   0.491871\n",
      "of jesus         -0.091910           -0.173755      -0.212405   0.423757\n"
     ]
    }
   ],
   "source": [
    "def Q4():\n",
    "    ### STUDENT START ###\n",
    "    \n",
    "    ### Part 1\n",
    "    \n",
    "    #initialize countVector and transform data\n",
    "    vec = CountVectorizer(analyzer = 'word' , ngram_range = (2,2))\n",
    "    matrix_bi = vec.fit_transform(train_data)\n",
    "    \n",
    "    #Logistic Model, train, and accuracy\n",
    "    model = LogisticRegression(C = .5, solver = \"liblinear\", multi_class = \"auto\")\n",
    "    model.fit(matrix_bi, train_labels)\n",
    "    \n",
    "    ### Part 2\n",
    "    count = 1\n",
    "    top5_features_label_1 = []\n",
    "    top5_features_label_2 = []\n",
    "    top5_features_label_3 = []\n",
    "    top5_features_label_4 = []\n",
    "    top5_features = [top5_features_label_1,top5_features_label_2,top5_features_label_3,top5_features_label_4]\n",
    "    \n",
    "    #Record the coefficients with the largest weights then select top 5 for each feature\n",
    "    for coef in model.coef_:\n",
    "        # sort indecies from index that returns smallest value to index the returns highest value\n",
    "        indexs = coef.argsort()\n",
    "        top5_features[count - 1].append(list(indexs[:5:-1][:5]))\n",
    "        count += 1\n",
    "        print(' ')\n",
    "    \n",
    "    #get features of each topic:\n",
    "    count = 0\n",
    "    for topic in top5_features:\n",
    "        count += 1\n",
    "        print(\"For topic\",count,\" the top 5 features are:\")\n",
    "        for word in topic[0]:\n",
    "            print(list(vec.vocabulary_.keys())[list(vec.vocabulary_.values()).index(word)])\n",
    "        print(' ')\n",
    "        \n",
    "    ### Part 3\n",
    "    features = ['claim that', 'cheers kent','was just','you are','are you',\n",
    "               'looking for','in advance','comp graphics','out there','is there',\n",
    "                'the space','the moon','sci space','and such','it was',\n",
    "                'the fbi','cheers kent','ignorance is','but he','of jesus']\n",
    "    coef_of_topic_1 = []\n",
    "    coef_of_topic_2 = []\n",
    "    coef_of_topic_3 = []\n",
    "    coef_of_topic_4 = []\n",
    "    \n",
    "    #having found the indeces where we have largest weights, we go ahead and put them into our lists above\n",
    "    for index in [ 38326,  37174, 184771, 193317,  20596]:\n",
    "        coef_of_topic_1.append(model.coef_[0][index])\n",
    "        coef_of_topic_2.append(model.coef_[1][index])\n",
    "        coef_of_topic_3.append(model.coef_[2][index])\n",
    "        coef_of_topic_4.append(model.coef_[3][index])\n",
    "    \n",
    "    for index in [ 98723,  81950,  40451, 123709,  88596]:\n",
    "        coef_of_topic_1.append(model.coef_[0][index])\n",
    "        coef_of_topic_2.append(model.coef_[1][index])\n",
    "        coef_of_topic_3.append(model.coef_[2][index])\n",
    "        coef_of_topic_4.append(model.coef_[3][index])\n",
    "    \n",
    "    for index in [167336, 165984, 145068,  16732,  90070]:\n",
    "        coef_of_topic_1.append(model.coef_[0][index])\n",
    "        coef_of_topic_2.append(model.coef_[1][index])\n",
    "        coef_of_topic_3.append(model.coef_[2][index])\n",
    "        coef_of_topic_4.append(model.coef_[3][index])\n",
    "    \n",
    "    for index in [164806,  37174,  80535,  32640, 116318]:\n",
    "        coef_of_topic_1.append(model.coef_[0][index])\n",
    "        coef_of_topic_2.append(model.coef_[1][index])\n",
    "        coef_of_topic_3.append(model.coef_[2][index])\n",
    "        coef_of_topic_4.append(model.coef_[3][index])\n",
    "    \n",
    "    #turn lists into series and then print dataframe\n",
    "    df = pd.DataFrame(list(zip(coef_of_topic_1, coef_of_topic_2,coef_of_topic_3,coef_of_topic_4)),\n",
    "               columns = categories, index = features)\n",
    "        \n",
    "    print(df)\n",
    "    ### STUDENT END ###\n",
    "    \n",
    "Q4()"
   ]
  },
  {
   "cell_type": "markdown",
   "metadata": {
    "id": "odPhAx_yTyhb"
   },
   "source": [
    "ANSWER: \n",
    "_Yeah it's a little interesting that the feature comp graphics is highly correlated with religion talk but almost the opposite with comp graphics itself... Also funny that jesus is higher correlated with sci.space than with religion or atheism! \"but he\" is weirdly an outlier in sci.space. Sounds like a lot of excuses for men in sci-fi_"
   ]
  },
  {
   "cell_type": "markdown",
   "metadata": {
    "id": "UNC3BCjUTyhb"
   },
   "source": [
    "### Question 5: Pre-processing for text\n",
    "---\n",
    "\n",
    "To improve generalization, it is common to try preprocessing text in various ways before splitting into words. For example, you could try transforming strings to lower case, replacing sequences of numbers with single tokens, removing various non-letter characters, and shortening long words.\n",
    "\n",
    "1. Produce a Logistic Regression model (with no preprocessing of text). **Note that you may need to override the \"default\" preprocessing with an identity function**. Evaluate and show its f1 score and size of the dictionary.\n",
    "1. Produce an improved Logistic Regression model by preprocessing the text. Evaluate and show its f1 score and size of the vocabulary.  Aim for an improvement in f1 score of 0.02. **Note: this is actually very hard**.\n",
    "1. How much did the improved model reduce the vocabulary size?\n",
    "\n",
    "Notes:\n",
    "* Things you can try: ** ???: Anything else we can suggest** \n",
    " - Look at default pre-processing done.\n",
    " - Removing stop words.\n",
    " - Experiment with different ways of getting rid of apostrophe's such as replacing them with spaces or with empty strings.\n",
    "  - Lower casing.\n",
    "  - Including both lowercase and original case versions of a word.\n",
    "  - nltk functions such as stemming.\n",
    "* Train on the \"transformed\" training data, the data after you applied pre-processing.\n",
    "* Evaluate on the transformed development data. Note that you never want to \"learn\" anything from the dev data.\n",
    "* You can use `CountVectorizer(preprocessor=...)` to preprocess strings with your own custom-defined function.\n",
    "* `CountVectorizer` default is to preprocess strings to lower case.\n",
    "* You can use `LogisticRegression(C=0.5, solver=\"liblinear\", multi_class=\"auto\")` to produce a logistic regression model.\n",
    "* You can use `metrics.f1_score(..., average=\"weighted\")` to compute f1 score.\n",
    "* If you're not already familiar with regular expressions for manipulating strings, see https://docs.python.org/2/library/re.html, and re.sub() in particular.\n",
    "* The order you apply pre-processing may produce different results.\n"
   ]
  },
  {
   "cell_type": "code",
   "execution_count": 438,
   "metadata": {
    "id": "3lDatbSPTyhb"
   },
   "outputs": [
    {
     "name": "stdout",
     "output_type": "stream",
     "text": [
      "The F1 score with no preprocessing is: 0.7161660045275731\n",
      "The size of the vocabulary is: 33291\n",
      " \n",
      "The F1 score with default preprocessing is: 0.7218796970690614\n",
      "The size of the vocabulary is: 26879\n",
      " \n"
     ]
    },
    {
     "name": "stderr",
     "output_type": "stream",
     "text": [
      "/Users/alejandropelcastre/opt/anaconda3/lib/python3.8/site-packages/sklearn/feature_extraction/text.py:388: UserWarning: Your stop_words may be inconsistent with your preprocessing. Tokenizing the stop words generated tokens ['re', 've'] not in stop_words.\n",
      "  warnings.warn('Your stop_words may be inconsistent with '\n"
     ]
    },
    {
     "name": "stdout",
     "output_type": "stream",
     "text": [
      "The F1 score with process_text  is: 0.723305150431705\n",
      "The size of the vocabulary is: 24328\n",
      " \n"
     ]
    }
   ],
   "source": [
    "def Q5():\n",
    "    ### STUDENT START ###\n",
    "    ## Part 1: No Preprocess text\n",
    "    \n",
    "    def identity(x):\n",
    "        \"\"\" Is a simple identity function\"\"\"\n",
    "        return x\n",
    "    \n",
    "    #models \n",
    "    vec = CountVectorizer(preprocessor=identity)\n",
    "    matrix_train = vec.fit_transform(train_data)\n",
    "    matrix_dev   = vec.transform(dev_data)\n",
    "    model = LogisticRegression(C = .5 , solver = \"liblinear\" , multi_class = 'auto')\n",
    "    model.fit(matrix_train, train_labels)\n",
    "    \n",
    "    # F1 score with no-preprocess\n",
    "    y_pred = model.predict(matrix_dev)\n",
    "    print(\"The F1 score with no preprocessing is:\", metrics.f1_score(y_pred, dev_labels, average=\"weighted\"))\n",
    "    print(\"The size of the vocabulary is:\", matrix_dev.shape[1])\n",
    "    print(' ')\n",
    "    \n",
    "    # default preprocessing and its F1 score\n",
    "    vec = CountVectorizer()\n",
    "    matrix_train = vec.fit_transform(train_data)\n",
    "    matrix_dev   = vec.transform(dev_data)\n",
    "    model = LogisticRegression(C = .5 , solver = \"liblinear\" , multi_class = 'auto')\n",
    "    model.fit(matrix_train, train_labels)\n",
    "    \n",
    "    y_pred = model.predict(matrix_dev)\n",
    "    print(\"The F1 score with default preprocessing is:\", metrics.f1_score(y_pred, dev_labels, average=\"weighted\"))\n",
    "    print(\"The size of the vocabulary is:\", matrix_dev.shape[1])\n",
    "    print(' ')\n",
    "    \n",
    "    # Custom preprocessing\n",
    "    bad_words = [\"my\", \"myself\", \"we\", \"our\", \"ourselves\", \"you\", \"you’re\", \"you’ve\",\n",
    "                 \"too\", \"very\",\"ok\",\"okay\"]\n",
    "    def process_text(string):\n",
    "        #make lower case\n",
    "        string = string.lower()\n",
    "        #remove apostrophes and periods\n",
    "        string = string.replace(\"'\", \"\")\n",
    "        #remove download\n",
    "        nltk.download('wordnet', quiet = True)\n",
    "        #remove characters not in alphabet\n",
    "        string = re.sub(\"[^A-Za-z]+\",\" \", string)\n",
    "        return string\n",
    "        \n",
    "    vec = CountVectorizer(preprocessor=process_text, stop_words=bad_words)\n",
    "    matrix_train = vec.fit_transform(train_data)\n",
    "    matrix_dev   = vec.transform(dev_data)\n",
    "    model = LogisticRegression(C = .5 , solver = \"liblinear\" , multi_class = 'auto')\n",
    "    model.fit(matrix_train, train_labels)\n",
    "    \n",
    "    y_pred = model.predict(matrix_dev)\n",
    "    print(\"The F1 score with process_text  is:\", metrics.f1_score(y_pred, dev_labels, average=\"weighted\"))\n",
    "    print(\"The size of the vocabulary is:\", matrix_dev.shape[1])\n",
    "    print(' ')\n",
    "    ### STUDENT END ###\n",
    "\n",
    "Q5()"
   ]
  },
  {
   "cell_type": "markdown",
   "metadata": {},
   "source": [
    "In the end I was only able to improve f1 score by around 0.01 (still better than default pre-processing) and the vocabulary went from 33,291 down to 26,879 for this improvement. So we removed 6,412 words."
   ]
  },
  {
   "cell_type": "markdown",
   "metadata": {
    "id": "tLRc7vDBTyhb"
   },
   "source": [
    "### Question 6: L1 and L2 regularization\n",
    "---\n",
    "\n",
    "The idea of regularization is to avoid learning very large weights (which are likely to fit the training data, but not generalize well) by adding a penalty to the total size of the learned weights. Logistic regression seeks the set of weights that minimizes errors in the training data AND has a small total size. The default L2 regularization computes this size as the sum of the squared weights (as in Part 3 above). L1 regularization computes this size as the sum of the absolute values of the weights. Whereas L2 regularization makes all the weights relatively small, **L1 regularization drives many of the weights to 0, effectively removing unimportant features**. For this reason, we can use it as a way to do \"feature selection\".\n",
    "\n",
    "1. For several L1 regularization strengths ...\n",
    "  1. Produce a Logistic Regression model using the **L1** regularization strength.  Reduce the vocabulary to only those features that have at least one non-zero weight among the four categories.\n",
    "  1. Produce a new Logistic Regression model using the reduced vocabulary . For this new model, use an **L2** regularization strength of 0.5.  \n",
    "  1. Evaluate and show the L1 regularization strength, vocabulary size, and f1 score associated with the new model.\n",
    "1. Show a plot of f1 score vs. log vocabulary size.  Each point corresponds to a specific L1 regularization strength used to reduce the vocabulary.\n",
    "1. How does performance of the models based on reduced vocabularies compare to that of a model based on the full vocabulary?\n",
    "\n",
    "Notes:\n",
    "* No need to apply pre-processing from question 5.\n",
    "* Train on the transformed (i.e. CountVectorizer) training data.\n",
    "* Evaluate on the transformed development data (using the CountVectorizer instance you trained on the training data).\n",
    "* You can use `LogisticRegression(..., penalty=\"l1\")` to produce a logistic regression model using L1 regularization.\n",
    "* You can use `LogisticRegression(..., penalty=\"l2\")` to produce a logistic regression model using L2 regularization.\n",
    "* You can use `LogisticRegression(..., tol=0.015)` to produce a logistic regression model using relaxed gradient descent convergence criteria.  The gradient descent code that trains the logistic regression model sometimes has trouble converging with extreme settings of the C parameter. Relax the convergence criteria by setting tol=.015 (the default is .0001).\n",
    "* (solver=\"liblinear\" might be needed for it not to crash)"
   ]
  },
  {
   "cell_type": "code",
   "execution_count": 452,
   "metadata": {
    "id": "7dva_PsvTyhb"
   },
   "outputs": [
    {
     "name": "stderr",
     "output_type": "stream",
     "text": [
      "/Users/alejandropelcastre/opt/anaconda3/lib/python3.8/site-packages/sklearn/svm/_base.py:985: ConvergenceWarning: Liblinear failed to converge, increase the number of iterations.\n",
      "  warnings.warn(\"Liblinear failed to converge, increase \"\n"
     ]
    },
    {
     "name": "stdout",
     "output_type": "stream",
     "text": [
      "Dataframe after dropping all the rows with only zeroes\n",
      "              0             1         2         3\n",
      "82     0.000000 -3.365833e-02  0.118674  0.000000\n",
      "146   -0.233949 -7.424104e-02  0.052253  0.000000\n",
      "351   -0.618403  0.000000e+00  0.000000  0.000000\n",
      "581    0.000000 -1.121928e-01  0.000000  0.000000\n",
      "629    0.000000 -7.052837e-08  0.000000  0.000000\n",
      "...         ...           ...       ...       ...\n",
      "26744  0.000000  6.066573e-02  0.000000  0.000000\n",
      "26756  0.000000  0.000000e+00  0.583351  0.000000\n",
      "26764  0.039928 -1.205348e-01 -0.035666  0.039196\n",
      "26768  0.037187 -1.266278e-01 -0.186666  0.159813\n",
      "26771 -0.122432  0.000000e+00  0.000000  0.868790\n",
      "\n",
      "[708 rows x 4 columns]\n",
      "The vocabulary size with L1 regularization is: 708\n",
      "The F1 score after L1 regularization is : 0.687700393841619\n",
      "Accuracy is 0.6819526627218935\n",
      "F1 score with c =  0.01 is: 0.496205945908928\n",
      "Vocab size with c = 0.01 is: 16\n",
      "F1 score with c =  0.02 is: 0.6034252147702411\n",
      "Vocab size with c = 0.02 is: 41\n",
      "F1 score with c =  0.05 is: 0.6557163693447219\n",
      "Vocab size with c = 0.05 is: 118\n",
      "F1 score with c =  0.1 is: 0.6906999627516615\n",
      "Vocab size with c = 0.1 is: 206\n",
      "F1 score with c =  0.2 is: 0.6911390888658133\n",
      "Vocab size with c = 0.2 is: 358\n",
      "F1 score with c =  0.3 is: 0.6774151201129072\n",
      "Vocab size with c = 0.3 is: 499\n"
     ]
    },
    {
     "name": "stderr",
     "output_type": "stream",
     "text": [
      "/Users/alejandropelcastre/opt/anaconda3/lib/python3.8/site-packages/sklearn/svm/_base.py:985: ConvergenceWarning: Liblinear failed to converge, increase the number of iterations.\n",
      "  warnings.warn(\"Liblinear failed to converge, increase \"\n"
     ]
    },
    {
     "name": "stdout",
     "output_type": "stream",
     "text": [
      "F1 score with c =  0.4 is: 0.6866957888903986\n",
      "Vocab size with c = 0.4 is: 613\n"
     ]
    },
    {
     "name": "stderr",
     "output_type": "stream",
     "text": [
      "/Users/alejandropelcastre/opt/anaconda3/lib/python3.8/site-packages/sklearn/svm/_base.py:985: ConvergenceWarning: Liblinear failed to converge, increase the number of iterations.\n",
      "  warnings.warn(\"Liblinear failed to converge, increase \"\n"
     ]
    },
    {
     "name": "stdout",
     "output_type": "stream",
     "text": [
      "F1 score with c =  0.5 is: 0.6890022291524972\n",
      "Vocab size with c = 0.5 is: 697\n"
     ]
    },
    {
     "name": "stderr",
     "output_type": "stream",
     "text": [
      "/Users/alejandropelcastre/opt/anaconda3/lib/python3.8/site-packages/sklearn/svm/_base.py:985: ConvergenceWarning: Liblinear failed to converge, increase the number of iterations.\n",
      "  warnings.warn(\"Liblinear failed to converge, increase \"\n"
     ]
    },
    {
     "name": "stdout",
     "output_type": "stream",
     "text": [
      "F1 score with c =  1 is: 0.6889446839502084\n",
      "Vocab size with c = 1 is: 694\n"
     ]
    },
    {
     "name": "stderr",
     "output_type": "stream",
     "text": [
      "/Users/alejandropelcastre/opt/anaconda3/lib/python3.8/site-packages/sklearn/svm/_base.py:985: ConvergenceWarning: Liblinear failed to converge, increase the number of iterations.\n",
      "  warnings.warn(\"Liblinear failed to converge, increase \"\n"
     ]
    },
    {
     "name": "stdout",
     "output_type": "stream",
     "text": [
      "F1 score with c =  3 is: 0.687042741263938\n",
      "Vocab size with c = 3 is: 693\n",
      "Our original model has f1 score of: 0.687700393841619 and vocab size of:26879\n"
     ]
    },
    {
     "data": {
      "image/png": "[encoded data removed]",
      "text/plain": [
       "<Figure size 432x288 with 1 Axes>"
      ]
     },
     "metadata": {
      "needs_background": "light"
     },
     "output_type": "display_data"
    }
   ],
   "source": [
    "def Q6():\n",
    "    # Keep this random seed here to make comparison easier.\n",
    "    np.random.seed(0)\n",
    "\n",
    "    ### STUDENT START ###\n",
    "    \n",
    "    ### Part 1:A\n",
    "    \n",
    "    #initialize models\n",
    "    count_v = CountVectorizer()\n",
    "    matrix_train = count_v.fit_transform(train_data)\n",
    "    model = LogisticRegression(C = .5 , solver = \"liblinear\" , multi_class = 'auto')\n",
    "    L1 = LogisticRegression(C = .5,solver = \"liblinear\", penalty=\"l1\")\n",
    "    L2 = LogisticRegression(C = .5,solver = \"liblinear\", penalty=\"l2\")\n",
    "    L1.fit(matrix_train, train_labels)\n",
    "    \n",
    "    # create dataframe with coefficients for each word in each topic after dropping rows with all zeroes\n",
    "    df = pd.DataFrame((zip(L1.coef_[0],L1.coef_[1],L1.coef_[2],L1.coef_[3])))\n",
    "    df = df.loc[~(df==0.0).all(axis=1)]\n",
    "    print(\"Dataframe after dropping all the rows with only zeroes\")\n",
    "    print(df)\n",
    "    \n",
    "    #Get vocab that survived and put into list new_vocabulary\n",
    "    feature_indeces_that_survive_L1 = list(df.index)\n",
    "    new_vocabulary = []\n",
    "    for index in feature_indeces_that_survive_L1:\n",
    "        new_vocabulary.append(count_v.get_feature_names()[index])\n",
    "    \n",
    "    ### Part 1:B\n",
    "    \n",
    "    #Initialize models and train\n",
    "    count_v = CountVectorizer(vocabulary = new_vocabulary)\n",
    "    matrix_train = count_v.fit_transform(train_data)\n",
    "    matrix_dev   = count_v.fit_transform(dev_data)\n",
    "    L2.fit(matrix_train, train_labels)\n",
    "    y_pred = L2.predict(matrix_dev)\n",
    "    error = (dev_labels != y_pred).sum()/len(y_pred)\n",
    "    \n",
    "    \n",
    "    ### Part 1:C Get f1 score and vocab size \n",
    "    print(\"The vocabulary size with L1 regularization is:\",len(new_vocabulary))\n",
    "    print(\"The F1 score after L1 regularization is :\", metrics.f1_score(y_pred, dev_labels, average=\"weighted\"))\n",
    "    print(\"Accuracy is\", 1 - error)\n",
    "    \n",
    "    # Part 2\n",
    "    #get vocab with different values for c\n",
    "    c_list = [0.01, 0.02, 0.05, 0.1, 0.2,0.3, 0.4, 0.5, 1,3]\n",
    "    L1 = LogisticRegression(C = .1,solver = \"liblinear\", penalty=\"l1\")\n",
    "    L1.fit(matrix_train, train_labels)\n",
    "    \n",
    "    f1_scores   = []\n",
    "    vocab_sizes = []\n",
    "    \n",
    "    for c in c_list:\n",
    "        #Initialize models:\n",
    "        L1 = LogisticRegression(C = c,solver = \"liblinear\", penalty=\"l1\")\n",
    "        L1.fit(matrix_train, train_labels)\n",
    "        L2.fit(matrix_train, train_labels)\n",
    "        y_pred = L2.predict(matrix_dev)\n",
    "        # create dataframe with coefficients for each word in each topic after dropping rows with all zeroes\n",
    "        df = pd.DataFrame((zip(L1.coef_[0],L1.coef_[1],L1.coef_[2],L1.coef_[3])))\n",
    "        df = df.loc[~(df==0.0).all(axis=1)]\n",
    "        #Get vocab that survived and put into list new_vocabulary\n",
    "        feature_indeces_that_survive_L1 = list(df.index)\n",
    "        new_vocabulary = []\n",
    "        for index in feature_indeces_that_survive_L1:\n",
    "            new_vocabulary.append(count_v.get_feature_names()[index])\n",
    "        \n",
    "        #create new CVector with new vocab then train L2 model with it\n",
    "        count_v_2 = CountVectorizer(vocabulary=new_vocabulary)\n",
    "        matrix_train_2 = count_v_2.fit_transform(train_data)\n",
    "        matrix_dev_2   = count_v_2.fit_transform(dev_data)\n",
    "        L2.fit(matrix_train_2, train_labels)\n",
    "        y_pred = L2.predict(matrix_dev_2)\n",
    "        \n",
    "        #print our results\n",
    "        print(\"F1 score with c = \",c,\"is:\",metrics.f1_score(y_pred, dev_labels, average=\"weighted\"))\n",
    "        f1_scores.append(metrics.f1_score(y_pred, dev_labels, average=\"weighted\"))\n",
    "        print(\"Vocab size with c =\",c,\"is:\", len(new_vocabulary))\n",
    "        vocab_sizes.append(len(new_vocabulary))\n",
    "        \n",
    "    #plot the vocab_size vs. f1_scores in blue and the original f1_score and vocabsize of our original model in red\n",
    "    plt.scatter(x = np.log(vocab_sizes), y = f1_scores)\n",
    "    plt.xlabel(\"Log of vocabulary size\")\n",
    "    plt.ylabel(\"F1 scores\")\n",
    "    plt.title(\"Log(vocab size) vs F1_scores\")\n",
    "    original = LogisticRegression(C= .5, solver=\"liblinear\", multi_class=\"auto\")\n",
    "    original.fit(matrix_train, train_labels)\n",
    "    y_pred = original.predict(matrix_dev)\n",
    "    print(\"Our original model has f1 score of:\",metrics.f1_score(y_pred, dev_labels, average=\"weighted\"), \n",
    "         \"and vocab size of:26879\")\n",
    "    \n",
    "    ### STUDENT END ###\n",
    "\n",
    "Q6()"
   ]
  },
  {
   "cell_type": "markdown",
   "metadata": {
    "id": "XbrmPrLaTyhc"
   },
   "source": [
    "ANSWER:  \n",
    "_In our original model our f1 score came out to around 0.68770 with the original vocab size of 26879. In our best modified model (After L1 regularization with strength C = 0.2) our highest f1 score came out to be 0.6911 with vocab size of 358. From this we can see that a lot of our original vocab words did not contribute to our model and we had to heavily reduce from over 20,000 words down to a mere 358 to improve f1 score by about .004. This also shows how well our model works with all the vocab words and maybe it's not worth chopping down most of our vocab for a marginal improvement (unless of course every improvement matters). Intresting to note also that our model would need to be tuned in order for the regularization to increase performance, otherwise we risk making it worse_. "
   ]
  },
  {
   "cell_type": "markdown",
   "metadata": {
    "id": "AQJQimS8Tyhd"
   },
   "source": [
    "### Question 7: TfIdf\n",
    "---\n",
    "As you may recall [tf-idf](https://en.wikipedia.org/wiki/Tf%E2%80%93idf) stands for *term frequency inverse document frequency* and is a way to assign a weight to each word or token signifying their importance for a document in a corpus (a collection of documents).\n",
    "\n",
    "Produce a Logistic Regression model based on data represented in tf-idf form, with L2 regularization strength of 100.  Evaluate and show the f1 score.  How is `TfidfVectorizer` different than `CountVectorizer`?\n",
    "\n",
    "1. How is `TfidfVectorizer` different than `CountVectorizer`?\n",
    "1. Show the 3 documents with highest R ratio, where ...\n",
    "  - $R\\,ratio = maximum\\,predicted\\,probability \\div predicted\\,probability\\,of\\,correct\\,label$\n",
    "1. Explain what the R ratio describes.\n",
    "1. What kinds of mistakes is the model making? Suggest a way to address one particular issue that you see.\n",
    "\n",
    "Note:\n",
    "* Train on the transformed training data.\n",
    "* Evaluate on the transformed development data.\n",
    "* You can use `TfidfVectorizer` and its `.fit_transform` method to transform data to tf-idf form.\n",
    "* You can use `LogisticRegression(C=100, solver=\"liblinear\", multi_class=\"auto\")` to produce a logistic regression model.\n",
    "* You can use `LogisticRegression`'s `.predict_proba` method to access predicted probabilities."
   ]
  },
  {
   "cell_type": "code",
   "execution_count": 513,
   "metadata": {
    "id": "Llsrh11LTyhd"
   },
   "outputs": [
    {
     "name": "stdout",
     "output_type": "stream",
     "text": [
      "Accuracy for tf model is 0.7633136094674556\n",
      "F1 score for tf model is 0.7668609761496009\n",
      "--------------------\n",
      "Accuracy for countvector model is 0.6863905325443787\n",
      "F1 score for countvector model is 0.6899717797268292\n",
      "--------------------\n",
      "transform data shape_train (2034, 26879)\n",
      "Maximum predicted prob is  0.999978716389131\n",
      "The top 3 R ratios are: [3.824212407006125, 3.521249863489014, 3.521249863489014]\n",
      "The indexes of those top 1 R ratios is: 592\n",
      "The second index is: 17\n",
      "On a more cheerful note, perhaps hackerism/hacking isn't completely dead.\n",
      "\n",
      "As someone else said, take the GNU offerings for example - free, redistributable and \n",
      "often better than the commercial stuff.  Take also the number of papers published\n",
      "every year in all the fields of computer science - the vast majority of these papers\n",
      "detail original work of real, often exceptional merit - and the authors are sharing\n",
      "this knowledge.\n",
      " \n",
      "\n"
     ]
    }
   ],
   "source": [
    "def Q7():\n",
    "    ### STUDENT START ###\n",
    "    # Produce Logistic Reg model in tf-idf form with L2 reg strength of 100\n",
    "    tf = TfidfVectorizer()\n",
    "    train_transform = tf.fit_transform(train_data)\n",
    "    dev_transform   = tf.transform(dev_data)\n",
    "    L2 = LogisticRegression(C=100, solver=\"liblinear\", multi_class=\"auto\", penalty=\"l2\")\n",
    "    L2.fit(train_transform, train_labels)\n",
    "    y_pred = L2.predict(dev_transform)\n",
    "    error = (dev_labels != y_pred).sum()/len(y_pred)\n",
    "    print(\"Accuracy for tf model is\", 1 - error)\n",
    "    print(\"F1 score for tf model is\",  metrics.f1_score(y_pred, dev_labels, average=\"weighted\"))\n",
    "    print('--------------------')\n",
    "    \n",
    "    #Produce same analysis with CV model\n",
    "    cv = CountVectorizer()\n",
    "    train_transform_cv = cv.fit_transform(train_data)\n",
    "    dev_transform_cv   = cv.transform(dev_data)\n",
    "    L2 = LogisticRegression(C=100, solver=\"liblinear\", multi_class=\"auto\", penalty=\"l2\")\n",
    "    L2.fit(train_transform_cv, train_labels)\n",
    "    y_pred = L2.predict(dev_transform_cv)\n",
    "    error = (dev_labels != y_pred).sum()/len(y_pred)\n",
    "    print(\"Accuracy for countvector model is\", 1 - error)\n",
    "    print(\"F1 score for countvector model is\",  metrics.f1_score(y_pred, dev_labels, average=\"weighted\"))\n",
    "    print('--------------------')\n",
    "    \n",
    "    ### Part 2\n",
    "    #Get maximum prob and calculate R ratios:\n",
    "    \n",
    "    tf = TfidfVectorizer()\n",
    "    train_transform = tf.fit_transform(train_data)\n",
    "    dev_transform   = tf.transform(dev_data)\n",
    "    L2 = LogisticRegression(C=100, solver=\"liblinear\", multi_class=\"auto\", penalty=\"l2\")\n",
    "    L2.fit(train_transform, train_labels)\n",
    "    print(\"transform data shape_train\", train_transform.shape)\n",
    "    maximum = 0\n",
    "    for doc_prob in L2.predict_proba(dev_transform):\n",
    "        for topic in doc_prob:\n",
    "            if maximum <= topic:\n",
    "                maximum = topic\n",
    "    print(\"Maximum predicted prob is \", maximum)\n",
    "    \n",
    "    #Now that we have maximum prob, find top 3 documents with highest R ratio\n",
    "    \n",
    "    #First find top 3 R ratios\n",
    "    R_ratios = []\n",
    "    for doc_prob in L2.predict_proba(dev_transform):\n",
    "        coef = max(doc_prob)\n",
    "        R_ratios.append(maximum/coef)\n",
    "    Rs = R_ratios[:]\n",
    "    R_sort = R_ratios.sort(reverse = True)\n",
    "    #print(R_ratios)\n",
    "    print(\"The top 3 R ratios are:\",R_ratios[:3])\n",
    "    print(\"The indexes of those top 1 R ratios is:\", Rs.index(3.824212407006125))\n",
    "    print(\"The second index is:\", Rs.index(3.521249863489014))\n",
    "    print('----------')\n",
    "    #Find docs with these R ratios (The third index was the same for the second so could only find 2 docs)\n",
    "    print(\"The are the documents with the highest R ratios:\")\n",
    "    print(dev_data[592])\n",
    "    print(dev_data[17])\n",
    "    ### STUDENT END ###\n",
    "\n",
    "Q7()"
   ]
  },
  {
   "cell_type": "markdown",
   "metadata": {
    "id": "w7SnJ7mTTyhe"
   },
   "source": [
    "ANSWER:  \n",
    "_Part 1_ __The CountVector model actually counts the number of times a word appears in a document. TfIdf on the other hand does not return a count. Instead, tf returns the 'importance' of a word on a scale [0,1] while also taking to account its frequency in other parts of the data. We can also see that with the same parameters, the tf model outperforms the CountVector model in both accuracy and F1 score.__  \n",
    "\n",
    "_Part 3_ __The R ratio demonstrates which documents have highest difficulty deciding on the label. The closer to 1 the more confident the model is ascribing a label, but the higher away from 1 the R ratio of a document is, the less confident the model is__  \n",
    "\n",
    "_Part 4_ __It seems that the mistakes are occuring where there's some '-' characters. and also short documents with potentially '/' characters. Short amount of words could make it difficult to decide which label to give and the '-'   could confuse the model"
   ]
  },
  {
   "cell_type": "markdown",
   "metadata": {
    "id": "Smtoa6tHTyhf"
   },
   "source": [
    "### Question 8 EXTRA CREDIT:\n",
    "---\n",
    "Produce a Logistic Regression model to implement your suggestion from Part 7."
   ]
  },
  {
   "cell_type": "code",
   "execution_count": 518,
   "metadata": {
    "id": "uCLc-do1Tyhf",
    "scrolled": false
   },
   "outputs": [
    {
     "name": "stdout",
     "output_type": "stream",
     "text": [
      "Orignally without suggestion:\n",
      "Accuracy for C = 0.5   is 0.7159763313609467\n",
      "The F1 score for C = 0.5  is: 0.7218796970690614\n"
     ]
    },
    {
     "name": "stderr",
     "output_type": "stream",
     "text": [
      "/Users/alejandropelcastre/opt/anaconda3/lib/python3.8/site-packages/sklearn/feature_extraction/text.py:388: UserWarning: Your stop_words may be inconsistent with your preprocessing. Tokenizing the stop words generated tokens ['re', 've'] not in stop_words.\n",
      "  warnings.warn('Your stop_words may be inconsistent with '\n"
     ]
    },
    {
     "name": "stdout",
     "output_type": "stream",
     "text": [
      "With suggested preprocessing:\n",
      "Accuracy for C = 0.5   is 0.7174556213017751\n",
      "The F1 score for C = 0.5  is: 0.723305150431705\n"
     ]
    }
   ],
   "source": [
    " def process_text(string):\n",
    "        #make lower case\n",
    "        string = string.lower()\n",
    "        #remove apostrophes and periods\n",
    "        string = string.replace(\"'\", \"\")\n",
    "        #REPLACE - WITH SPACE\n",
    "        string = string.replace('-', ' ')\n",
    "        #REPLACE / with SPACE\n",
    "        string = string.replace('/',' ')\n",
    "        #remove download\n",
    "        nltk.download('wordnet', quiet = True)\n",
    "        #remove characters not in alphabet\n",
    "        string = re.sub(\"[^A-Za-z]+\",\" \", string)\n",
    "        return string\n",
    "    \n",
    "\n",
    "#logreg without suggestion from part 7\n",
    "v = CountVectorizer()\n",
    "train_v = v.fit_transform(train_data)\n",
    "dev_v   = v.transform(dev_data)\n",
    "\n",
    "model = LogisticRegression(C=.5, solver=\"liblinear\", multi_class=\"auto\")\n",
    "model.fit(train_v, train_labels)\n",
    "y_pred = model.predict(dev_v)\n",
    "error = (dev_labels != y_pred).sum()/len(y_pred)\n",
    "print(\"Orignally without suggestion:\")\n",
    "print(\"Accuracy for C =\",.5,\"  is\", 1 - error)\n",
    "print(\"The F1 score for C =\",.5,\" is:\", metrics.f1_score(y_pred, dev_labels, average=\"weighted\"))\n",
    "\n",
    "\n",
    "#With the preprocessing   \n",
    "bad_words = [\"my\", \"myself\", \"we\", \"our\", \"ourselves\", \"you\", \"you’re\", \"you’ve\",\n",
    "                 \"too\", \"very\",\"ok\",\"okay\"]\n",
    "vec = CountVectorizer(preprocessor=process_text, stop_words = bad_words)\n",
    "matrix_train = vec.fit_transform(train_data)\n",
    "matrix_dev   = vec.transform(dev_data)\n",
    "\n",
    "model = LogisticRegression(C=.5, solver=\"liblinear\", multi_class=\"auto\")\n",
    "model.fit(matrix_train, train_labels)\n",
    "y_pred = model.predict(matrix_dev)\n",
    "error = (dev_labels != y_pred).sum()/len(y_pred)\n",
    "print(\"With suggested preprocessing:\")\n",
    "print(\"Accuracy for C =\",.5,\"  is\", 1 - error)\n",
    "print(\"The F1 score for C =\",.5,\" is:\", metrics.f1_score(y_pred, dev_labels, average=\"weighted\"))"
   ]
  },
  {
   "cell_type": "code",
   "execution_count": 519,
   "metadata": {},
   "outputs": [
    {
     "data": {
      "text/plain": [
       "'/Users/alejandropelcastre/Desktop/Data_Science_Projects/w207/cilin-coursework/projects'"
      ]
     },
     "execution_count": 519,
     "metadata": {},
     "output_type": "execute_result"
    }
   ],
   "source": [
    "pwd"
   ]
  },
  {
   "cell_type": "code",
   "execution_count": null,
   "metadata": {},
   "outputs": [],
   "source": []
  }
 ],
 "metadata": {
  "colab": {
   "collapsed_sections": [],
   "name": "firstname_lastname_project3.ipynb",
   "provenance": []
  },
  "kernelspec": {
   "display_name": "Python 3",
   "language": "python",
   "name": "python3"
  },
  "language_info": {
   "codemirror_mode": {
    "name": "ipython",
    "version": 3
   },
   "file_extension": ".py",
   "mimetype": "text/x-python",
   "name": "python",
   "nbconvert_exporter": "python",
   "pygments_lexer": "ipython3",
   "version": "3.8.8"
  },
  "toc": {
   "base_numbering": 1,
   "nav_menu": {},
   "number_sections": false,
   "sideBar": true,
   "skip_h1_title": true,
   "title_cell": "Table of Contents",
   "title_sidebar": "Contents",
   "toc_cell": false,
   "toc_position": {},
   "toc_section_display": true,
   "toc_window_display": false
  }
 },
 "nbformat": 4,
 "nbformat_minor": 1
}
